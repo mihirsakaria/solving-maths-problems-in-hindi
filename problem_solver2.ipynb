{
  "nbformat": 4,
  "nbformat_minor": 0,
  "metadata": {
    "colab": {
      "name": "problem_solver2.ipynb",
      "provenance": [],
      "collapsed_sections": [],
      "include_colab_link": true
    },
    "kernelspec": {
      "display_name": "Python 3",
      "name": "python3"
    },
    "language_info": {
      "name": "python"
    },
    "accelerator": "GPU"
  },
  "cells": [
    {
      "cell_type": "markdown",
      "metadata": {
        "id": "view-in-github",
        "colab_type": "text"
      },
      "source": [
        "<a href=\"https://colab.research.google.com/github/mihirsakaria/solving-maths-problems-in-hindi/blob/main/problem_solver2.ipynb\" target=\"_parent\"><img src=\"https://colab.research.google.com/assets/colab-badge.svg\" alt=\"Open In Colab\"/></a>"
      ]
    },
    {
      "cell_type": "code",
      "metadata": {
        "id": "HBvtw4opnDGx"
      },
      "source": [
        "import pandas as pd\n",
        "import pickle\n",
        "import numpy as np\n",
        "import os"
      ],
      "execution_count": 1,
      "outputs": []
    },
    {
      "cell_type": "code",
      "metadata": {
        "id": "JDphTNGJr9MM"
      },
      "source": [
        "# !pip install python-docx\n",
        "# #Not needed"
      ],
      "execution_count": 2,
      "outputs": []
    },
    {
      "cell_type": "code",
      "metadata": {
        "id": "mrBxkpuar_5X"
      },
      "source": [
        "# import docx\n",
        "# #Not needed"
      ],
      "execution_count": 3,
      "outputs": []
    },
    {
      "cell_type": "code",
      "metadata": {
        "id": "vTa90_mQ2nqS"
      },
      "source": [
        "f1 = 'drive/MyDrive/Maths Problem Solving BTP/data/'"
      ],
      "execution_count": 4,
      "outputs": []
    },
    {
      "cell_type": "code",
      "metadata": {
        "id": "CHG8xQ6msBI5"
      },
      "source": [
        "\n",
        "# def getText(filename):\n",
        "#     doc = docx.Document(f1+filename)\n",
        "#     fullText = []\n",
        "#     for para in doc.paragraphs:\n",
        "#         fullText.append(para.text)\n",
        "#     return '\\n'.join(fullText)\n",
        "# print(os.listdir('drive/MyDrive/Maths Problem Solving BTP/data'))\n",
        "# files = os.listdir('drive/MyDrive/Maths Problem Solving BTP/data')\n",
        "# #Not needed"
      ],
      "execution_count": 5,
      "outputs": []
    },
    {
      "cell_type": "code",
      "metadata": {
        "id": "sSR4-omCsFQs"
      },
      "source": [
        "# texts = []\n",
        "# for f in files:\n",
        "#   if f == '.DS_Store':\n",
        "#     continue \n",
        "#   if '.pkl' not in f and '.json' not in f:\n",
        "#     texts.append(getText(f))\n",
        "# #Not needed"
      ],
      "execution_count": 6,
      "outputs": []
    },
    {
      "cell_type": "code",
      "metadata": {
        "id": "2XLT4hS-sHoN"
      },
      "source": [
        "# questions = []\n",
        "# equations = []\n",
        "# for text in texts:\n",
        "#   for line in text.split('\\n')[1:]:\n",
        "#     if 'Question :' in line:\n",
        "#       q = line[len('Question : \\\"'):-1]\n",
        "#       questions.append(q)\n",
        "#     if 'Equation :' in line:\n",
        "#       e = line[len('Equation : \\\" '):-1]\n",
        "#       equations.append(e)\n",
        "#   #Not needed"
      ],
      "execution_count": 7,
      "outputs": []
    },
    {
      "cell_type": "code",
      "metadata": {
        "id": "rfuIUtFmsJKY"
      },
      "source": [
        "# len(questions), len(equations)\n",
        "# #Not needed"
      ],
      "execution_count": 8,
      "outputs": []
    },
    {
      "cell_type": "code",
      "metadata": {
        "id": "Qkj9_hlasLJl"
      },
      "source": [
        "# np.random.choice(questions, 10)\n",
        "# #Not needed"
      ],
      "execution_count": 9,
      "outputs": []
    },
    {
      "cell_type": "code",
      "metadata": {
        "id": "ZAnPPy87UC5K"
      },
      "source": [
        "import json\n",
        "questions = []\n",
        "equations= []\n",
        "with open('Dataset.json','r',encoding='utf-8') as f:\n",
        "  obj = json.load(f)\n",
        "  for i in obj:\n",
        "    questions.append(i[\"question\"])\n",
        "    equations.append(i[\"equation\"])"
      ],
      "execution_count": 10,
      "outputs": []
    },
    {
      "cell_type": "code",
      "metadata": {
        "id": "3B6qU7QtsLfN"
      },
      "source": [
        "import pandas as pd\n",
        "data = pd.DataFrame({'Question':questions, 'Equation':equations})"
      ],
      "execution_count": 11,
      "outputs": []
    },
    {
      "cell_type": "code",
      "metadata": {
        "id": "KCyw3mYZsOL-"
      },
      "source": [
        "# # data = data.head(8000)\n",
        "# data"
      ],
      "execution_count": 12,
      "outputs": []
    },
    {
      "cell_type": "code",
      "metadata": {
        "id": "AJc0noXYsP94"
      },
      "source": [
        "# #Not needed\n",
        "# data_json = pd.read_json(f1+'OneVariableSingleEQ.json')"
      ],
      "execution_count": 13,
      "outputs": []
    },
    {
      "cell_type": "code",
      "metadata": {
        "id": "WgEnSNBHsRS4"
      },
      "source": [
        "# data_2 = pd.DataFrame({'Question':list(data_json['sQuestion'].values), 'Equation':list(data_json['lEquations'].apply(lambda x: x[0]).values)})\n",
        "# data_2\n",
        "# #Not needed"
      ],
      "execution_count": 14,
      "outputs": []
    },
    {
      "cell_type": "code",
      "metadata": {
        "id": "5pzATvkpsTMe"
      },
      "source": [
        "# #Not needed\n",
        "# data_final = data.append(data_2)\n",
        "# data_final = data_final.sample(frac=1)\n",
        "# with open('data_final.pkl','wb') as f:\n",
        "#   pickle.dump(data_final, f)"
      ],
      "execution_count": 15,
      "outputs": []
    },
    {
      "cell_type": "code",
      "metadata": {
        "id": "gtki-OqM1zgJ"
      },
      "source": [
        "# data_final = data.append(data_2)\n",
        "data_final = data\n",
        "data_final = data_final.sample(frac=1)\n",
        "with open('data_final.pkl','wb') as f:\n",
        "  pickle.dump(data_final, f)"
      ],
      "execution_count": 16,
      "outputs": []
    },
    {
      "cell_type": "code",
      "metadata": {
        "colab": {
          "base_uri": "https://localhost:8080/"
        },
        "id": "FjAXB-aMz2re",
        "outputId": "99bfe9a5-07e3-4f96-f5ad-4983c2978477"
      },
      "source": [
        "import pandas as pd\n",
        "import re\n",
        "import os\n",
        "import time\n",
        "import random\n",
        "import numpy as np\n",
        "\n",
        "try:\n",
        "  %tensorflow_version 2.x # enable TF 2.x in Colab\n",
        "except Exception:\n",
        "  pass\n",
        "\n",
        "import tensorflow as tf\n",
        "import matplotlib.pyplot as plt\n",
        "import matplotlib.ticker as ticker\n",
        "from sklearn.model_selection import train_test_split\n",
        "from google.colab import drive\n",
        "import pickle\n",
        "\n",
        "import spacy\n",
        "\n",
        "nlp = spacy.load(\"en_core_web_sm\")\n",
        "from nltk.translate.bleu_score import corpus_bleu"
      ],
      "execution_count": 17,
      "outputs": [
        {
          "output_type": "stream",
          "name": "stdout",
          "text": [
            "`%tensorflow_version` only switches the major version: 1.x or 2.x.\n",
            "You set: `2.x # enable TF 2.x in Colab`. This will be interpreted as: `2.x`.\n",
            "\n",
            "\n",
            "TensorFlow 2.x selected.\n"
          ]
        }
      ]
    },
    {
      "cell_type": "code",
      "metadata": {
        "colab": {
          "base_uri": "https://localhost:8080/",
          "height": 36
        },
        "id": "u8GJ3EwmL6IO",
        "outputId": "8761e23e-73f8-462a-dba0-aeecc47a8543"
      },
      "source": [
        "tf.__version__"
      ],
      "execution_count": 18,
      "outputs": [
        {
          "output_type": "execute_result",
          "data": {
            "application/vnd.google.colaboratory.intrinsic+json": {
              "type": "string"
            },
            "text/plain": [
              "'2.7.0'"
            ]
          },
          "metadata": {},
          "execution_count": 18
        }
      ]
    },
    {
      "cell_type": "code",
      "metadata": {
        "id": "_rSUiyOTL8FU"
      },
      "source": [
        "with open('data_final.pkl', 'rb') as f:\n",
        "  df = pickle.load(f)"
      ],
      "execution_count": 19,
      "outputs": []
    },
    {
      "cell_type": "code",
      "metadata": {
        "id": "R9dh9OdYL-pi",
        "colab": {
          "base_uri": "https://localhost:8080/",
          "height": 206
        },
        "outputId": "623a358b-624d-478b-9206-6940900fc3e3"
      },
      "source": [
        "df.shape\n",
        "df.head()\n",
        "\n",
        "# def convert_eqn(eqn):\n",
        "#   '''\n",
        "#   Add a space between every character in the equation string.\n",
        "#   Eg: 'x = 23 + 88' becomes 'x =  2 3 + 8 8'\n",
        "#   '''\n",
        "#   elements = list(eqn)\n",
        "#   return ' '.join(elements)"
      ],
      "execution_count": 20,
      "outputs": [
        {
          "output_type": "execute_result",
          "data": {
            "text/html": [
              "<div>\n",
              "<style scoped>\n",
              "    .dataframe tbody tr th:only-of-type {\n",
              "        vertical-align: middle;\n",
              "    }\n",
              "\n",
              "    .dataframe tbody tr th {\n",
              "        vertical-align: top;\n",
              "    }\n",
              "\n",
              "    .dataframe thead th {\n",
              "        text-align: right;\n",
              "    }\n",
              "</style>\n",
              "<table border=\"1\" class=\"dataframe\">\n",
              "  <thead>\n",
              "    <tr style=\"text-align: right;\">\n",
              "      <th></th>\n",
              "      <th>Question</th>\n",
              "      <th>Equation</th>\n",
              "    </tr>\n",
              "  </thead>\n",
              "  <tbody>\n",
              "    <tr>\n",
              "      <th>2550</th>\n",
              "      <td>सल्वाटोर 11 दोस्तों के बीच कुछ पुस्तक साझा करन...</td>\n",
              "      <td>X = 40 * 11</td>\n",
              "    </tr>\n",
              "    <tr>\n",
              "      <th>2719</th>\n",
              "      <td>कैथरीन 17 दोस्तों के बीच कुछ फूल बांटना चाहती ...</td>\n",
              "      <td>X = 7 * 17</td>\n",
              "    </tr>\n",
              "    <tr>\n",
              "      <th>4350</th>\n",
              "      <td>विलियम के पास 334 पेन थे। वह सभी पेन को कुछ दो...</td>\n",
              "      <td>X = 334 / 3</td>\n",
              "    </tr>\n",
              "    <tr>\n",
              "      <th>8096</th>\n",
              "      <td>केल्विन के पास 135 आम थे। विलियम ने उससे 87 आम...</td>\n",
              "      <td>X = 135 - 87</td>\n",
              "    </tr>\n",
              "    <tr>\n",
              "      <th>361</th>\n",
              "      <td>एडवर्ड कुछ चॉकलेट 9 दोस्तों के बीच बाँटना चाहत...</td>\n",
              "      <td>X = 16 * 9</td>\n",
              "    </tr>\n",
              "  </tbody>\n",
              "</table>\n",
              "</div>"
            ],
            "text/plain": [
              "                                               Question      Equation\n",
              "2550  सल्वाटोर 11 दोस्तों के बीच कुछ पुस्तक साझा करन...   X = 40 * 11\n",
              "2719  कैथरीन 17 दोस्तों के बीच कुछ फूल बांटना चाहती ...    X = 7 * 17\n",
              "4350  विलियम के पास 334 पेन थे। वह सभी पेन को कुछ दो...   X = 334 / 3\n",
              "8096  केल्विन के पास 135 आम थे। विलियम ने उससे 87 आम...  X = 135 - 87\n",
              "361   एडवर्ड कुछ चॉकलेट 9 दोस्तों के बीच बाँटना चाहत...    X = 16 * 9"
            ]
          },
          "metadata": {},
          "execution_count": 20
        }
      ]
    },
    {
      "cell_type": "code",
      "metadata": {
        "colab": {
          "base_uri": "https://localhost:8080/"
        },
        "id": "jn3T4FbNMEfO",
        "outputId": "b64de836-2995-4b6f-e7d5-415865c6e6f8"
      },
      "source": [
        "input_exps = list(df['Question'].values)\n",
        "# target_exps = list(df['Equation'].apply(lambda x: convert_eqn(x)).values)\n",
        "target_exps = list(df['Equation'].values)\n",
        "input_exps[:5]\n",
        "target_exps[:5]\n",
        "len(pd.Series(input_exps)), len(pd.Series(input_exps).unique())\n",
        "len(pd.Series(target_exps)), len(pd.Series(target_exps).unique())"
      ],
      "execution_count": 21,
      "outputs": [
        {
          "output_type": "execute_result",
          "data": {
            "text/plain": [
              "(12500, 9741)"
            ]
          },
          "metadata": {},
          "execution_count": 21
        }
      ]
    },
    {
      "cell_type": "code",
      "metadata": {
        "id": "xtZLACn3MNST"
      },
      "source": [
        "def preprocess_input(sentence):\n",
        "  '''\n",
        "  For the word problem, convert everything to lowercase, add spaces around all\n",
        "  punctuations and digits, and remove any extra spaces. \n",
        "  '''\n",
        "  sentence = sentence.lower().strip()\n",
        "  sentence = re.sub(r\"([?.!,’।])\", r\" \\1 \", sentence)\n",
        "  # sentence = re.sub(r\"([0-9])\", r\" \\1 \", sentence)\n",
        "  sentence = re.sub(r'[\" \"]+', \" \", sentence)\n",
        "  sentence = sentence.rstrip().strip()\n",
        "  return sentence"
      ],
      "execution_count": 22,
      "outputs": []
    },
    {
      "cell_type": "code",
      "metadata": {
        "id": "umEMThJqMOxX"
      },
      "source": [
        "def preprocess_target(sentence):\n",
        "  '''\n",
        "  For the equation, convert it to lowercase and remove extra spaces\n",
        "  '''\n",
        "  sentence = sentence.lower().strip()\n",
        "  return sentence"
      ],
      "execution_count": 23,
      "outputs": []
    },
    {
      "cell_type": "code",
      "metadata": {
        "id": "t7kwWsGcnpwm"
      },
      "source": [
        "preprocessed_input_exps = list(map(preprocess_input, input_exps))\n",
        "preprocessed_target_exps = list(map(preprocess_target, target_exps))"
      ],
      "execution_count": 24,
      "outputs": []
    },
    {
      "cell_type": "code",
      "metadata": {
        "id": "cc-jPrSiBoSl"
      },
      "source": [
        "def wordTokenize(text):\n",
        "  return text.split(\" \")\n",
        "#Tokenising a text, removing stopwords and cleaning it\n",
        "def clean_text_initial(text):\n",
        "    text = \"\".join(text.split(\",\"))\n",
        "    text = \"\".join(text.split(\".\"))\n",
        "    text = \"\".join(text.split(\"।\"))\n",
        "    text = \"\".join(text.split(\"?\"))\n",
        "    \n",
        "    text = \"\".join(text.split(\"/\"))\n",
        "    text = \" \".join(text.split())\n",
        "    # text = ' '.join([x.lower() for x in wordTokenize(text) if x.lower() not in unwanted_list])\n",
        "    # text = ''.join([i for i in text if not i.isdigit()])\n",
        "    \n",
        "    return text\n",
        "\n",
        "def create_vocab(train):\n",
        "  unique_words = set()\n",
        "  for text in train:\n",
        "    tokens = wordTokenize(text)\n",
        "    for token in tokens:\n",
        "      unique_words.add(token)\n",
        "  vocab = {}\n",
        "  reverse_vocab= {}\n",
        "  for index, word in enumerate(list(unique_words)):\n",
        "    vocab[word] = index+1         #index+1 for transfor\n",
        "    reverse_vocab[index+1] = word\n",
        "  return vocab,reverse_vocab\n",
        "\n",
        "\n",
        "  \n",
        "def Vectorisation_normal(train):\n",
        "  vectors = []\n",
        "  vocab,reverse_vocab = create_vocab(train)\n",
        "  # print(vocab)\n",
        "  train_size = len(train)\n",
        "  vocab_length = len(vocab)\n",
        "  # for i in range(train_size):\n",
        "  #   temp = []\n",
        "  #   for j in range(len(create_vocab([train[i]]))):\n",
        "  #     temp.append(0)\n",
        "  #   vectors.append(temp)\n",
        "  for i in range(train_size):\n",
        "    tokens = wordTokenize(train[i])\n",
        "    temp  = []\n",
        "    for j, token in enumerate(tokens):\n",
        "      index = vocab[token]\n",
        "      temp.append(index)\n",
        "      # vectors[i][j] = index\n",
        "    vectors.append(temp)\n",
        "  # vectors = np.array(vectors)\n",
        "  # vectors = tf.convert_to_tensor(vectors, dtype=tf.int64) \n",
        "  return vectors,vocab,reverse_vocab"
      ],
      "execution_count": 25,
      "outputs": []
    },
    {
      "cell_type": "code",
      "metadata": {
        "id": "QPIvSjrwqFB-"
      },
      "source": [
        "input_tensor, inp_lang_tokenizer,inp_lang_reverse_tokenizer = Vectorisation_normal(preprocessed_input_exps)\n",
        "target_tensor , targ_lang_tokenizer,targ_lang_reverse_tokenizer = Vectorisation_normal(preprocessed_target_exps)\n",
        "old_len = len(targ_lang_tokenizer)"
      ],
      "execution_count": 26,
      "outputs": []
    },
    {
      "cell_type": "code",
      "metadata": {
        "id": "KVHZs1f9nr1l"
      },
      "source": [
        "# #Not needed\n",
        "# preprocessed_input_exps[:5]\n",
        "# preprocessed_target_exps[:5]\n",
        "# def tokenize(lang):\n",
        "#   '''\n",
        "#   Tokenize the given list of strings and return the tokenized output\n",
        "#   along with the fitted tokenizer.\n",
        "#   '''\n",
        "#   lang_tokenizer = tf.keras.preprocessing.text.Tokenizer(filters='')\n",
        "#   lang_tokenizer.fit_on_texts(lang)\n",
        "#   tensor = lang_tokenizer.texts_to_sequences(lang)\n",
        "#   return tensor, lang_tokenizer\n",
        "  \n",
        "# input_tensor, inp_lang_tokenizer = tokenize(preprocessed_input_exps)\n",
        "# len(inp_lang_tokenizer.word_index)\n",
        "# target_tensor, targ_lang_tokenizer = tokenize(preprocessed_target_exps)\n",
        "# old_len = len(targ_lang_tokenizer.word_index)"
      ],
      "execution_count": 27,
      "outputs": []
    },
    {
      "cell_type": "code",
      "metadata": {
        "colab": {
          "base_uri": "https://localhost:8080/"
        },
        "id": "GL3d0FSr_ysT",
        "outputId": "1482071a-31f8-4996-e0ca-71656ce1079c"
      },
      "source": [
        "print(len(input_tensor[1]),len(inp_lang_tokenizer))"
      ],
      "execution_count": 28,
      "outputs": [
        {
          "output_type": "stream",
          "name": "stdout",
          "text": [
            "26 2943\n"
          ]
        }
      ]
    },
    {
      "cell_type": "code",
      "metadata": {
        "colab": {
          "base_uri": "https://localhost:8080/"
        },
        "id": "7RzvB9d3n2ql",
        "outputId": "88fc15cf-04f6-4bde-8ce7-ba5bac3b52f8"
      },
      "source": [
        "def append_start_end(x,last_int):\n",
        "  '''\n",
        "  Add integers for start and end tokens for input/target exps\n",
        "  '''\n",
        "  l = []\n",
        "  l.append(last_int+1)\n",
        "  l.extend(x)\n",
        "  l.append(last_int+2)\n",
        "  return l\n",
        "\n",
        "input_tensor_list = [append_start_end(i,len(inp_lang_tokenizer)) for i in input_tensor]\n",
        "target_tensor_list = [append_start_end(i,len(targ_lang_tokenizer)) for i in target_tensor]\n",
        "input_tensor = tf.keras.preprocessing.sequence.pad_sequences(input_tensor_list, padding='post')\n",
        "target_tensor = tf.keras.preprocessing.sequence.pad_sequences(target_tensor_list, padding='post')\n",
        "\n",
        "\n",
        "input_tensor\n",
        "target_tensor\n",
        "keys = [str(i) for i in range(10,51)]\n",
        "for i,k in enumerate(keys):\n",
        "  targ_lang_tokenizer[k]=len(targ_lang_tokenizer)+i+4\n",
        "\n",
        "len(targ_lang_tokenizer)"
      ],
      "execution_count": 29,
      "outputs": [
        {
          "output_type": "execute_result",
          "data": {
            "text/plain": [
              "440"
            ]
          },
          "metadata": {},
          "execution_count": 29
        }
      ]
    },
    {
      "cell_type": "code",
      "metadata": {
        "colab": {
          "base_uri": "https://localhost:8080/"
        },
        "id": "v41l13TboJhV",
        "outputId": "3fa0595c-e4a9-4fd4-c9f6-691b922c4565"
      },
      "source": [
        "input_tensor_train, input_tensor_val, target_tensor_train, target_tensor_val = train_test_split(input_tensor,target_tensor,test_size=0.05,random_state=42)\n",
        "len(input_tensor_train)\n",
        "len(input_tensor_val)"
      ],
      "execution_count": 30,
      "outputs": [
        {
          "output_type": "execute_result",
          "data": {
            "text/plain": [
              "625"
            ]
          },
          "metadata": {},
          "execution_count": 30
        }
      ]
    },
    {
      "cell_type": "code",
      "metadata": {
        "colab": {
          "base_uri": "https://localhost:8080/"
        },
        "id": "SRr1hPh1oSnQ",
        "outputId": "97089e3a-0ec3-4e8c-a2b0-bb4e985d4833"
      },
      "source": [
        "\n",
        "BUFFER_SIZE = len(input_tensor_train)\n",
        "BATCH_SIZE = 64\n",
        "steps_per_epoch = len(input_tensor_train)//BATCH_SIZE\n",
        "dataset = tf.data.Dataset.from_tensor_slices((input_tensor_train, target_tensor_train)).shuffle(BUFFER_SIZE)\n",
        "dataset = dataset.batch(BATCH_SIZE, drop_remainder=True)\n",
        "num_layers = 4\n",
        "d_model = 128\n",
        "dff = 512\n",
        "num_heads = 8\n",
        "input_vocab_size = len(inp_lang_tokenizer)+3\n",
        "target_vocab_size = len(targ_lang_tokenizer)+3\n",
        "dropout_rate = 0.0\n",
        "\n",
        "example_input_batch, example_target_batch = next(iter(dataset))\n",
        "example_input_batch.shape, example_target_batch.shape"
      ],
      "execution_count": 31,
      "outputs": [
        {
          "output_type": "execute_result",
          "data": {
            "text/plain": [
              "(TensorShape([64, 41]), TensorShape([64, 7]))"
            ]
          },
          "metadata": {},
          "execution_count": 31
        }
      ]
    },
    {
      "cell_type": "code",
      "metadata": {
        "id": "sCBcsQ0UoWDz"
      },
      "source": [
        "def get_angles(pos, i, d_model):\n",
        "  angle_rates = 1 / np.power(10000, (2 * (i//2)) / np.float32(d_model))\n",
        "  return pos * angle_rates"
      ],
      "execution_count": 32,
      "outputs": []
    },
    {
      "cell_type": "code",
      "metadata": {
        "id": "Km9hP1zuoXWA"
      },
      "source": [
        "def positional_encoding(position, d_model):\n",
        "  angle_rads = get_angles(np.arange(position)[:, np.newaxis],\n",
        "                          np.arange(d_model)[np.newaxis, :],\n",
        "                          d_model)\n",
        "  \n",
        "  # apply sin to even indices in the array; 2i\n",
        "  angle_rads[:, 0::2] = np.sin(angle_rads[:, 0::2])\n",
        "  \n",
        "  # apply cos to odd indices in the array; 2i+1\n",
        "  angle_rads[:, 1::2] = np.cos(angle_rads[:, 1::2])\n",
        "    \n",
        "  pos_encoding = angle_rads[np.newaxis, ...]\n",
        "    \n",
        "  return tf.cast(pos_encoding, dtype=tf.float32)"
      ],
      "execution_count": 33,
      "outputs": []
    },
    {
      "cell_type": "code",
      "metadata": {
        "id": "vF_xKBl3oZF-"
      },
      "source": [
        "def create_padding_mask(seq):\n",
        "  seq = tf.cast(tf.math.equal(seq, 0), tf.float32)\n",
        "  \n",
        "  # add extra dimensions to add the padding\n",
        "  # to the attention logits.\n",
        "  return seq[:, tf.newaxis, tf.newaxis, :]"
      ],
      "execution_count": 34,
      "outputs": []
    },
    {
      "cell_type": "code",
      "metadata": {
        "id": "1VzI2j9LoaNU"
      },
      "source": [
        "def create_look_ahead_mask(size):\n",
        "  mask = 1 - tf.linalg.band_part(tf.ones((size, size)), -1, 0)\n",
        "  return mask"
      ],
      "execution_count": 35,
      "outputs": []
    },
    {
      "cell_type": "code",
      "metadata": {
        "id": "z53u7BQOob8C"
      },
      "source": [
        "def scaled_dot_product_attention(q, k, v, mask):\n",
        "  matmul_qk = tf.matmul(q, k, transpose_b=True)  # (..., seq_len_q, seq_len_k)\n",
        "  \n",
        "  # scale matmul_qk\n",
        "  dk = tf.cast(tf.shape(k)[-1], tf.float32)\n",
        "  scaled_attention_logits = matmul_qk / tf.math.sqrt(dk)\n",
        "\n",
        "  # add the mask to the scaled tensor.\n",
        "  if mask is not None:\n",
        "    scaled_attention_logits += (mask * -1e9)  \n",
        "\n",
        "  # softmax is normalized on the last axis (seq_len_k) so that the scores\n",
        "  # add up to 1.\n",
        "  attention_weights = tf.nn.softmax(scaled_attention_logits, axis=-1)  # (..., seq_len_q, seq_len_k)\n",
        "\n",
        "  output = tf.matmul(attention_weights, v)  # (..., seq_len_q, depth_v)\n",
        "\n",
        "  return output, attention_weights"
      ],
      "execution_count": 36,
      "outputs": []
    },
    {
      "cell_type": "code",
      "metadata": {
        "id": "euxvbe_8odzq"
      },
      "source": [
        "class MultiHeadAttention(tf.keras.layers.Layer):\n",
        "  def __init__(self, d_model, num_heads):\n",
        "    super(MultiHeadAttention, self).__init__()\n",
        "    self.num_heads = num_heads\n",
        "    self.d_model = d_model\n",
        "    \n",
        "    assert d_model % self.num_heads == 0\n",
        "    \n",
        "    self.depth = d_model // self.num_heads\n",
        "    \n",
        "    self.wq = tf.keras.layers.Dense(d_model)\n",
        "    self.wk = tf.keras.layers.Dense(d_model)\n",
        "    self.wv = tf.keras.layers.Dense(d_model)\n",
        "    \n",
        "    self.dense = tf.keras.layers.Dense(d_model)\n",
        "        \n",
        "  def split_heads(self, x, batch_size):\n",
        "    \"\"\"Split the last dimension into (num_heads, depth).\n",
        "    Transpose the result such that the shape is (batch_size, num_heads, seq_len, depth)\n",
        "    \"\"\"\n",
        "    x = tf.reshape(x, (batch_size, -1, self.num_heads, self.depth))\n",
        "    return tf.transpose(x, perm=[0, 2, 1, 3])\n",
        "    \n",
        "  def call(self, v, k, q, mask):\n",
        "    batch_size = tf.shape(q)[0]\n",
        "    \n",
        "    q = self.wq(q)  # (batch_size, seq_len, d_model)\n",
        "    k = self.wk(k)  # (batch_size, seq_len, d_model)\n",
        "    v = self.wv(v)  # (batch_size, seq_len, d_model)\n",
        "    \n",
        "    q = self.split_heads(q, batch_size)  # (batch_size, num_heads, seq_len_q, depth)\n",
        "    k = self.split_heads(k, batch_size)  # (batch_size, num_heads, seq_len_k, depth)\n",
        "    v = self.split_heads(v, batch_size)  # (batch_size, num_heads, seq_len_v, depth)\n",
        "    \n",
        "    # scaled_attention.shape == (batch_size, num_heads, seq_len_q, depth)\n",
        "    # attention_weights.shape == (batch_size, num_heads, seq_len_q, seq_len_k)\n",
        "    scaled_attention, attention_weights = scaled_dot_product_attention(\n",
        "        q, k, v, mask)\n",
        "    \n",
        "    scaled_attention = tf.transpose(scaled_attention, perm=[0, 2, 1, 3])  # (batch_size, seq_len_q, num_heads, depth)\n",
        "\n",
        "    concat_attention = tf.reshape(scaled_attention, \n",
        "                                  (batch_size, -1, self.d_model))  # (batch_size, seq_len_q, d_model)\n",
        "\n",
        "    output = self.dense(concat_attention)  # (batch_size, seq_len_q, d_model)\n",
        "        \n",
        "    return output, attention_weights"
      ],
      "execution_count": 37,
      "outputs": []
    },
    {
      "cell_type": "code",
      "metadata": {
        "id": "JijRDjo9ofiK"
      },
      "source": [
        "def point_wise_feed_forward_network(d_model, dff):\n",
        "  return tf.keras.Sequential([\n",
        "      tf.keras.layers.Dense(dff, activation='relu'),  # (batch_size, seq_len, dff)\n",
        "      tf.keras.layers.Dense(d_model)  # (batch_size, seq_len, d_model)\n",
        "  ])"
      ],
      "execution_count": 38,
      "outputs": []
    },
    {
      "cell_type": "code",
      "metadata": {
        "id": "1GPkXa5hog0l"
      },
      "source": [
        "class EncoderLayer(tf.keras.layers.Layer):\n",
        "  def __init__(self, d_model, num_heads, dff, rate=0.1):\n",
        "    super(EncoderLayer, self).__init__()\n",
        "\n",
        "    self.mha = MultiHeadAttention(d_model, num_heads)\n",
        "    self.ffn = point_wise_feed_forward_network(d_model, dff)\n",
        "\n",
        "    # normalize data per feature instead of batch\n",
        "    self.layernorm1 = tf.keras.layers.LayerNormalization(epsilon=1e-6)\n",
        "    self.layernorm2 = tf.keras.layers.LayerNormalization(epsilon=1e-6)\n",
        "    \n",
        "    self.dropout1 = tf.keras.layers.Dropout(rate)\n",
        "    self.dropout2 = tf.keras.layers.Dropout(rate)\n",
        "    \n",
        "  def call(self, x, training, mask):\n",
        "    # Multi-head attention layer\n",
        "    attn_output, _ = self.mha(x, x, x, mask) \n",
        "    attn_output = self.dropout1(attn_output, training=training)\n",
        "    # add residual connection to avoid vanishing gradient problem\n",
        "    out1 = self.layernorm1(x + attn_output)\n",
        "    \n",
        "    # Feedforward layer\n",
        "    ffn_output = self.ffn(out1)\n",
        "    ffn_output = self.dropout2(ffn_output, training=training)\n",
        "    # add residual connection to avoid vanishing gradient problem\n",
        "    out2 = self.layernorm2(out1 + ffn_output)\n",
        "    return out2"
      ],
      "execution_count": 39,
      "outputs": []
    },
    {
      "cell_type": "code",
      "metadata": {
        "id": "id-cUrWOoiOH"
      },
      "source": [
        "class Encoder(tf.keras.layers.Layer):\n",
        "  def __init__(self, num_layers, d_model, num_heads, dff, input_vocab_size,\n",
        "               maximum_position_encoding, rate=0.1):\n",
        "    super(Encoder, self).__init__()\n",
        "\n",
        "    self.d_model = d_model\n",
        "    self.num_layers = num_layers\n",
        "    \n",
        "    self.embedding = tf.keras.layers.Embedding(input_vocab_size, d_model)\n",
        "    self.pos_encoding = positional_encoding(maximum_position_encoding, \n",
        "                                            self.d_model)\n",
        "    \n",
        "    # Create encoder layers (count: num_layers)\n",
        "    self.enc_layers = [EncoderLayer(d_model, num_heads, dff, rate) \n",
        "                       for _ in range(num_layers)]\n",
        "  \n",
        "    self.dropout = tf.keras.layers.Dropout(rate)\n",
        "        \n",
        "  def call(self, x, training, mask):\n",
        "\n",
        "    seq_len = tf.shape(x)[1]\n",
        "\n",
        "    # adding embedding and position encoding.\n",
        "    x = self.embedding(x)  \n",
        "    x *= tf.math.sqrt(tf.cast(self.d_model, tf.float32))\n",
        "    x += self.pos_encoding[:, :seq_len, :]\n",
        "\n",
        "    x = self.dropout(x, training=training)\n",
        "    \n",
        "    for i in range(self.num_layers):\n",
        "      x = self.enc_layers[i](x, training, mask)\n",
        "    \n",
        "    return x"
      ],
      "execution_count": 40,
      "outputs": []
    },
    {
      "cell_type": "code",
      "metadata": {
        "id": "ZMYhhzujojw8"
      },
      "source": [
        "class DecoderLayer(tf.keras.layers.Layer):\n",
        "  def __init__(self, d_model, num_heads, dff, rate=0.1):\n",
        "    super(DecoderLayer, self).__init__()\n",
        "\n",
        "    self.mha1 = MultiHeadAttention(d_model, num_heads)\n",
        "    self.mha2 = MultiHeadAttention(d_model, num_heads)\n",
        "\n",
        "    self.ffn = point_wise_feed_forward_network(d_model, dff)\n",
        " \n",
        "    self.layernorm1 = tf.keras.layers.LayerNormalization(epsilon=1e-6)\n",
        "    self.layernorm2 = tf.keras.layers.LayerNormalization(epsilon=1e-6)\n",
        "    self.layernorm3 = tf.keras.layers.LayerNormalization(epsilon=1e-6)\n",
        "    \n",
        "    self.dropout1 = tf.keras.layers.Dropout(rate)\n",
        "    self.dropout2 = tf.keras.layers.Dropout(rate)\n",
        "    self.dropout3 = tf.keras.layers.Dropout(rate)\n",
        "    \n",
        "    \n",
        "  def call(self, x, enc_output, training, \n",
        "           look_ahead_mask, padding_mask):\n",
        "\n",
        "    # Masked multihead attention layer (padding + look-ahead)\n",
        "    attn1, attn_weights_block1 = self.mha1(x, x, x, look_ahead_mask)\n",
        "    attn1 = self.dropout1(attn1, training=training)\n",
        "    # again add residual connection\n",
        "    out1 = self.layernorm1(attn1 + x)\n",
        "    \n",
        "    # Masked multihead attention layer (only padding)\n",
        "    # with input from encoder as Key and Value, and input from previous layer as Query\n",
        "    attn2, attn_weights_block2 = self.mha2(\n",
        "        enc_output, enc_output, out1, padding_mask)\n",
        "    attn2 = self.dropout2(attn2, training=training)\n",
        "    # again add residual connection\n",
        "    out2 = self.layernorm2(attn2 + out1)\n",
        "    \n",
        "    # Feedforward layer\n",
        "    ffn_output = self.ffn(out2)\n",
        "    ffn_output = self.dropout3(ffn_output, training=training)\n",
        "    # again add residual connection\n",
        "    out3 = self.layernorm3(ffn_output + out2)\n",
        "    return out3, attn_weights_block1, attn_weights_block2"
      ],
      "execution_count": 41,
      "outputs": []
    },
    {
      "cell_type": "code",
      "metadata": {
        "id": "-_NDU8KzoliE"
      },
      "source": [
        "class Decoder(tf.keras.layers.Layer):\n",
        "  def __init__(self, num_layers, d_model, num_heads, dff, target_vocab_size,\n",
        "               maximum_position_encoding, rate=0.1):\n",
        "    super(Decoder, self).__init__()\n",
        "\n",
        "    self.d_model = d_model\n",
        "    self.num_layers = num_layers\n",
        "     \n",
        "    self.embedding = tf.keras.layers.Embedding(target_vocab_size, d_model)\n",
        "    self.pos_encoding = positional_encoding(maximum_position_encoding, d_model)\n",
        "    \n",
        "    # Create decoder layers (count: num_layers)\n",
        "    self.dec_layers = [DecoderLayer(d_model, num_heads, dff, rate) \n",
        "                       for _ in range(num_layers)]\n",
        "    self.dropout = tf.keras.layers.Dropout(rate)\n",
        "    \n",
        "  def call(self, x, enc_output, training, \n",
        "           look_ahead_mask, padding_mask):\n",
        "\n",
        "    seq_len = tf.shape(x)[1]\n",
        "    attention_weights = {}\n",
        "    \n",
        "    x = self.embedding(x)  # (batch_size, target_seq_len, d_model)\n",
        "    \n",
        "    x *= tf.math.sqrt(tf.cast(self.d_model, tf.float32))\n",
        "    \n",
        "    x += self.pos_encoding[:,:seq_len,:]\n",
        "    \n",
        "    x = self.dropout(x, training=training)\n",
        "\n",
        "    for i in range(self.num_layers):\n",
        "      x, block1, block2 = self.dec_layers[i](x, enc_output, training,\n",
        "                                             look_ahead_mask, padding_mask)\n",
        "      \n",
        "      # store attenion weights, they can be used to visualize while translating\n",
        "      attention_weights['decoder_layer{}_block1'.format(i+1)] = block1\n",
        "      attention_weights['decoder_layer{}_block2'.format(i+1)] = block2\n",
        "    \n",
        "    return x, attention_weights"
      ],
      "execution_count": 42,
      "outputs": []
    },
    {
      "cell_type": "code",
      "metadata": {
        "id": "A_NFXiJconH0"
      },
      "source": [
        "class Transformer(tf.keras.Model):\n",
        "  def __init__(self, num_layers, d_model, num_heads, dff, input_vocab_size, \n",
        "               target_vocab_size, pe_input, pe_target, rate=0.1):\n",
        "    super(Transformer, self).__init__()\n",
        "\n",
        "    self.encoder = Encoder(num_layers, d_model, num_heads, dff, \n",
        "                           input_vocab_size, pe_input, rate)\n",
        "\n",
        "    self.decoder = Decoder(num_layers, d_model, num_heads, dff, \n",
        "                           target_vocab_size, pe_target, rate)\n",
        "\n",
        "    self.final_layer = tf.keras.layers.Dense(target_vocab_size)\n",
        "    \n",
        "  def call(self, inp, tar, training, enc_padding_mask, \n",
        "           look_ahead_mask, dec_padding_mask):\n",
        "\n",
        "    # Pass the input to the encoder\n",
        "    enc_output = self.encoder(inp, training, enc_padding_mask)\n",
        "    \n",
        "    # Pass the encoder output to the decoder\n",
        "    dec_output, attention_weights = self.decoder(\n",
        "        tar, enc_output, training, look_ahead_mask, dec_padding_mask)\n",
        "    \n",
        "    # Pass the decoder output to the last linear layer\n",
        "    final_output = self.final_layer(dec_output)\n",
        "    \n",
        "    return final_output, attention_weights"
      ],
      "execution_count": 43,
      "outputs": []
    },
    {
      "cell_type": "code",
      "metadata": {
        "id": "pOR7s2DKooh4"
      },
      "source": [
        "class CustomSchedule(tf.keras.optimizers.schedules.LearningRateSchedule):\n",
        "  def __init__(self, d_model, warmup_steps=4000):\n",
        "    super(CustomSchedule, self).__init__()\n",
        "    \n",
        "    self.d_model = d_model\n",
        "    self.d_model = tf.cast(self.d_model, tf.float32)\n",
        "\n",
        "    self.warmup_steps = warmup_steps\n",
        "    \n",
        "  def __call__(self, step):\n",
        "    arg1 = tf.math.rsqrt(step)\n",
        "    arg2 = step * (self.warmup_steps ** -1.5)\n",
        "    \n",
        "    return tf.math.rsqrt(self.d_model) * tf.math.minimum(arg1, arg2)"
      ],
      "execution_count": 44,
      "outputs": []
    },
    {
      "cell_type": "code",
      "metadata": {
        "id": "0mX0PA72oqQq"
      },
      "source": [
        "learning_rate = CustomSchedule(d_model)\n",
        "\n",
        "# Adam optimizer with a custom learning rate\n",
        "optimizer = tf.keras.optimizers.Adam(learning_rate, beta_1=0.9, beta_2=0.98, \n",
        "                                     epsilon=1e-9)"
      ],
      "execution_count": 45,
      "outputs": []
    },
    {
      "cell_type": "code",
      "metadata": {
        "id": "FZohYLliorpI"
      },
      "source": [
        "loss_object = tf.keras.losses.SparseCategoricalCrossentropy(\n",
        "    from_logits=True, reduction='none')"
      ],
      "execution_count": 46,
      "outputs": []
    },
    {
      "cell_type": "code",
      "metadata": {
        "id": "FMhYXOFF3jMD"
      },
      "source": [
        "def loss_function(real, pred):\n",
        "  # Apply a mask to paddings (0)\n",
        "  mask = tf.math.logical_not(tf.math.equal(real, 0))\n",
        "  loss_ = loss_object(real, pred)\n",
        "\n",
        "  mask = tf.cast(mask, dtype=loss_.dtype)\n",
        "  loss_ *= mask\n",
        "  \n",
        "  return tf.reduce_mean(loss_)"
      ],
      "execution_count": 47,
      "outputs": []
    },
    {
      "cell_type": "code",
      "metadata": {
        "id": "W6tu4R-Sos32"
      },
      "source": [
        "train_loss = tf.keras.metrics.Mean(name='train_loss')\n",
        "train_accuracy = tf.keras.metrics.SparseCategoricalAccuracy(\n",
        "    name='train_accuracy')"
      ],
      "execution_count": 48,
      "outputs": []
    },
    {
      "cell_type": "code",
      "metadata": {
        "id": "J8SelpdKouPJ"
      },
      "source": [
        "transformer = Transformer(num_layers, d_model, num_heads, dff,\n",
        "                          input_vocab_size, target_vocab_size, \n",
        "                          pe_input=input_vocab_size, \n",
        "                          pe_target=target_vocab_size,\n",
        "                          rate=dropout_rate)"
      ],
      "execution_count": 49,
      "outputs": []
    },
    {
      "cell_type": "code",
      "metadata": {
        "id": "Gp-n8yiEowxv"
      },
      "source": [
        "def create_masks(inp, tar):\n",
        "  # Encoder padding mask\n",
        "  enc_padding_mask = create_padding_mask(inp)\n",
        "  \n",
        "  # Decoder padding mask\n",
        "  dec_padding_mask = create_padding_mask(inp)\n",
        "  \n",
        "  # Look ahead mask (for hiding the rest of the sequence in the 1st decoder attention layer)\n",
        "  look_ahead_mask = create_look_ahead_mask(tf.shape(tar)[1])\n",
        "  dec_target_padding_mask = create_padding_mask(tar)\n",
        "  combined_mask = tf.maximum(dec_target_padding_mask, look_ahead_mask)\n",
        "  \n",
        "  return enc_padding_mask, combined_mask, dec_padding_mask"
      ],
      "execution_count": 50,
      "outputs": []
    },
    {
      "cell_type": "code",
      "metadata": {
        "colab": {
          "base_uri": "https://localhost:8080/"
        },
        "id": "wB986w81o7WM",
        "outputId": "a4cdbddd-9342-49f7-a49f-d3d349d152e8"
      },
      "source": [
        "checkpoint_dir = os.path.join(f1, \"ADL Project/checkpoints\")\n",
        "checkpoint_dir = os.path.join(checkpoint_dir, \"training_checkpoints/akshata_transfomer\")\n",
        "\n",
        "print(\"Checkpoints directory is\", checkpoint_dir)\n",
        "if os.path.exists(checkpoint_dir):\n",
        "  print(\"Checkpoints folder already exists\")\n",
        "else:\n",
        "  print(\"Creating a checkpoints directory\")\n",
        "  os.makedirs(checkpoint_dir)\n",
        "\n",
        "\n",
        "checkpoint = tf.train.Checkpoint(transformer=transformer,\n",
        "                           optimizer=optimizer)\n",
        "\n",
        "ckpt_manager = tf.train.CheckpointManager(checkpoint, checkpoint_dir, max_to_keep=5)"
      ],
      "execution_count": 51,
      "outputs": [
        {
          "output_type": "stream",
          "name": "stdout",
          "text": [
            "Checkpoints directory is drive/MyDrive/Maths Problem Solving BTP/data/ADL Project/checkpoints/training_checkpoints/akshata_transfomer\n",
            "Creating a checkpoints directory\n"
          ]
        }
      ]
    },
    {
      "cell_type": "code",
      "metadata": {
        "colab": {
          "base_uri": "https://localhost:8080/"
        },
        "id": "g33GKcVTo80D",
        "outputId": "605f87db-b2c5-474d-d50f-56e5649240a2"
      },
      "source": [
        "latest = ckpt_manager.latest_checkpoint\n",
        "print(latest)"
      ],
      "execution_count": 52,
      "outputs": [
        {
          "output_type": "stream",
          "name": "stdout",
          "text": [
            "None\n"
          ]
        }
      ]
    },
    {
      "cell_type": "code",
      "metadata": {
        "colab": {
          "base_uri": "https://localhost:8080/"
        },
        "id": "Cck79L7HJzGt",
        "outputId": "7d06ce3b-0bb2-4fb7-a4e1-97742e8795d7"
      },
      "source": [
        "if latest:\n",
        "  epoch_num = int(latest.split('/')[-1].split('-')[-1])\n",
        "  checkpoint.restore(latest)\n",
        "  print ('Latest checkpoint restored!!')\n",
        "else:\n",
        "  epoch_num = 0\n",
        "\n",
        "epoch_num"
      ],
      "execution_count": 53,
      "outputs": [
        {
          "output_type": "execute_result",
          "data": {
            "text/plain": [
              "0"
            ]
          },
          "metadata": {},
          "execution_count": 53
        }
      ]
    },
    {
      "cell_type": "code",
      "metadata": {
        "id": "6aNDAzPapA6n"
      },
      "source": [
        "EPOCHS = 20\n",
        "\n",
        "def train_step(inp, tar):\n",
        "  tar_inp = tar[:, :-1]\n",
        "  tar_real = tar[:, 1:]\n",
        "  \n",
        "  enc_padding_mask, combined_mask, dec_padding_mask = create_masks(inp, tar_inp)\n",
        "  \n",
        "  with tf.GradientTape() as tape:\n",
        "    predictions, _ = transformer(inp, tar_inp, \n",
        "                                 True, \n",
        "                                 enc_padding_mask, \n",
        "                                 combined_mask, \n",
        "                                 dec_padding_mask)\n",
        "    loss = loss_function(tar_real, predictions)\n",
        "\n",
        "  gradients = tape.gradient(loss, transformer.trainable_variables)    \n",
        "  optimizer.apply_gradients(zip(gradients, transformer.trainable_variables))\n",
        "  \n",
        "  train_loss(loss)\n",
        "  train_accuracy(tar_real, predictions)"
      ],
      "execution_count": 54,
      "outputs": []
    },
    {
      "cell_type": "code",
      "metadata": {
        "id": "Dq5w7N2_pCty",
        "colab": {
          "base_uri": "https://localhost:8080/"
        },
        "outputId": "42caf125-ef50-4c86-d79c-43f72ff0e509"
      },
      "source": [
        "for epoch in range(epoch_num, EPOCHS):\n",
        "  start = time.time()\n",
        "  \n",
        "  train_loss.reset_states()\n",
        "  train_accuracy.reset_states()\n",
        "  \n",
        "  # inp -> question, tar -> equation\n",
        "  for (batch, (inp, tar)) in enumerate(dataset):\n",
        "    train_step(inp, tar)\n",
        "    \n",
        "    if batch % 50 == 0:\n",
        "      print ('Epoch {} Batch {} Loss {:.4f} Accuracy {:.4f}'.format(\n",
        "          epoch + 1, batch, train_loss.result(), train_accuracy.result()))\n",
        "      \n",
        "  ckpt_save_path = ckpt_manager.save()\n",
        "  print ('Saving checkpoint for epoch {} at {}'.format(epoch+1,\n",
        "                                                         ckpt_save_path))\n",
        "    \n",
        "  print ('Epoch {} Loss {:.4f} Accuracy {:.4f}'.format(epoch + 1, \n",
        "                                                train_loss.result(), \n",
        "                                                train_accuracy.result()))\n",
        "\n",
        "  print ('Time taken for 1 epoch: {} secs\\n'.format(time.time() - start))"
      ],
      "execution_count": 55,
      "outputs": [
        {
          "output_type": "stream",
          "name": "stdout",
          "text": [
            "Epoch 1 Batch 0 Loss 6.3730 Accuracy 0.0000\n",
            "Epoch 1 Batch 50 Loss 5.7521 Accuracy 0.0672\n",
            "Epoch 1 Batch 100 Loss 5.0534 Accuracy 0.1582\n",
            "Epoch 1 Batch 150 Loss 4.4137 Accuracy 0.2899\n",
            "Saving checkpoint for epoch 1 at drive/MyDrive/Maths Problem Solving BTP/data/ADL Project/checkpoints/training_checkpoints/akshata_transfomer/ckpt-1\n",
            "Epoch 1 Loss 4.0669 Accuracy 0.3579\n",
            "Time taken for 1 epoch: 75.85984206199646 secs\n",
            "\n",
            "Epoch 2 Batch 0 Loss 2.3710 Accuracy 0.6667\n",
            "Epoch 2 Batch 50 Loss 2.2471 Accuracy 0.6614\n",
            "Epoch 2 Batch 100 Loss 2.1436 Accuracy 0.6615\n",
            "Epoch 2 Batch 150 Loss 2.0659 Accuracy 0.6616\n",
            "Saving checkpoint for epoch 2 at drive/MyDrive/Maths Problem Solving BTP/data/ADL Project/checkpoints/training_checkpoints/akshata_transfomer/ckpt-2\n",
            "Epoch 2 Loss 2.0210 Accuracy 0.6625\n",
            "Time taken for 1 epoch: 73.00272250175476 secs\n",
            "\n",
            "Epoch 3 Batch 0 Loss 1.7745 Accuracy 0.6771\n",
            "Epoch 3 Batch 50 Loss 1.7146 Accuracy 0.6809\n",
            "Epoch 3 Batch 100 Loss 1.6160 Accuracy 0.7062\n",
            "Epoch 3 Batch 150 Loss 1.5135 Accuracy 0.7294\n",
            "Saving checkpoint for epoch 3 at drive/MyDrive/Maths Problem Solving BTP/data/ADL Project/checkpoints/training_checkpoints/akshata_transfomer/ckpt-3\n",
            "Epoch 3 Loss 1.4435 Accuracy 0.7428\n",
            "Time taken for 1 epoch: 73.24680638313293 secs\n",
            "\n",
            "Epoch 4 Batch 0 Loss 1.0783 Accuracy 0.8047\n",
            "Epoch 4 Batch 50 Loss 0.9930 Accuracy 0.8231\n",
            "Epoch 4 Batch 100 Loss 0.9268 Accuracy 0.8329\n",
            "Epoch 4 Batch 150 Loss 0.8620 Accuracy 0.8459\n",
            "Saving checkpoint for epoch 4 at drive/MyDrive/Maths Problem Solving BTP/data/ADL Project/checkpoints/training_checkpoints/akshata_transfomer/ckpt-4\n",
            "Epoch 4 Loss 0.8205 Accuracy 0.8542\n",
            "Time taken for 1 epoch: 73.6087212562561 secs\n",
            "\n",
            "Epoch 5 Batch 0 Loss 0.5757 Accuracy 0.9010\n",
            "Epoch 5 Batch 50 Loss 0.5178 Accuracy 0.9136\n",
            "Epoch 5 Batch 100 Loss 0.4710 Accuracy 0.9239\n",
            "Epoch 5 Batch 150 Loss 0.4314 Accuracy 0.9330\n",
            "Saving checkpoint for epoch 5 at drive/MyDrive/Maths Problem Solving BTP/data/ADL Project/checkpoints/training_checkpoints/akshata_transfomer/ckpt-5\n",
            "Epoch 5 Loss 0.4052 Accuracy 0.9385\n",
            "Time taken for 1 epoch: 73.43059992790222 secs\n",
            "\n",
            "Epoch 6 Batch 0 Loss 0.2210 Accuracy 0.9844\n",
            "Epoch 6 Batch 50 Loss 0.1986 Accuracy 0.9827\n",
            "Epoch 6 Batch 100 Loss 0.1764 Accuracy 0.9846\n",
            "Epoch 6 Batch 150 Loss 0.1538 Accuracy 0.9869\n",
            "Saving checkpoint for epoch 6 at drive/MyDrive/Maths Problem Solving BTP/data/ADL Project/checkpoints/training_checkpoints/akshata_transfomer/ckpt-6\n",
            "Epoch 6 Loss 0.1401 Accuracy 0.9882\n",
            "Time taken for 1 epoch: 73.35489678382874 secs\n",
            "\n",
            "Epoch 7 Batch 0 Loss 0.0622 Accuracy 0.9922\n",
            "Epoch 7 Batch 50 Loss 0.0524 Accuracy 0.9938\n",
            "Epoch 7 Batch 100 Loss 0.0465 Accuracy 0.9939\n",
            "Epoch 7 Batch 150 Loss 0.0510 Accuracy 0.9933\n",
            "Saving checkpoint for epoch 7 at drive/MyDrive/Maths Problem Solving BTP/data/ADL Project/checkpoints/training_checkpoints/akshata_transfomer/ckpt-7\n",
            "Epoch 7 Loss 0.0483 Accuracy 0.9934\n",
            "Time taken for 1 epoch: 73.52776980400085 secs\n",
            "\n",
            "Epoch 8 Batch 0 Loss 0.0387 Accuracy 0.9948\n",
            "Epoch 8 Batch 50 Loss 0.0229 Accuracy 0.9954\n",
            "Epoch 8 Batch 100 Loss 0.0232 Accuracy 0.9949\n",
            "Epoch 8 Batch 150 Loss 0.0248 Accuracy 0.9948\n",
            "Saving checkpoint for epoch 8 at drive/MyDrive/Maths Problem Solving BTP/data/ADL Project/checkpoints/training_checkpoints/akshata_transfomer/ckpt-8\n",
            "Epoch 8 Loss 0.0240 Accuracy 0.9950\n",
            "Time taken for 1 epoch: 73.07816553115845 secs\n",
            "\n",
            "Epoch 9 Batch 0 Loss 0.0175 Accuracy 0.9974\n",
            "Epoch 9 Batch 50 Loss 0.0312 Accuracy 0.9932\n",
            "Epoch 9 Batch 100 Loss 0.0262 Accuracy 0.9944\n",
            "Epoch 9 Batch 150 Loss 0.0227 Accuracy 0.9949\n",
            "Saving checkpoint for epoch 9 at drive/MyDrive/Maths Problem Solving BTP/data/ADL Project/checkpoints/training_checkpoints/akshata_transfomer/ckpt-9\n",
            "Epoch 9 Loss 0.0211 Accuracy 0.9952\n",
            "Time taken for 1 epoch: 72.94834160804749 secs\n",
            "\n",
            "Epoch 10 Batch 0 Loss 0.0285 Accuracy 0.9922\n",
            "Epoch 10 Batch 50 Loss 0.0122 Accuracy 0.9967\n",
            "Epoch 10 Batch 100 Loss 0.0131 Accuracy 0.9963\n",
            "Epoch 10 Batch 150 Loss 0.0242 Accuracy 0.9946\n",
            "Saving checkpoint for epoch 10 at drive/MyDrive/Maths Problem Solving BTP/data/ADL Project/checkpoints/training_checkpoints/akshata_transfomer/ckpt-10\n",
            "Epoch 10 Loss 0.0277 Accuracy 0.9941\n",
            "Time taken for 1 epoch: 73.03233504295349 secs\n",
            "\n",
            "Epoch 11 Batch 0 Loss 0.0205 Accuracy 0.9948\n",
            "Epoch 11 Batch 50 Loss 0.0128 Accuracy 0.9968\n",
            "Epoch 11 Batch 100 Loss 0.0148 Accuracy 0.9964\n",
            "Epoch 11 Batch 150 Loss 0.0135 Accuracy 0.9965\n",
            "Saving checkpoint for epoch 11 at drive/MyDrive/Maths Problem Solving BTP/data/ADL Project/checkpoints/training_checkpoints/akshata_transfomer/ckpt-11\n",
            "Epoch 11 Loss 0.0132 Accuracy 0.9966\n",
            "Time taken for 1 epoch: 73.06994247436523 secs\n",
            "\n",
            "Epoch 12 Batch 0 Loss 0.0239 Accuracy 0.9948\n",
            "Epoch 12 Batch 50 Loss 0.0156 Accuracy 0.9961\n",
            "Epoch 12 Batch 100 Loss 0.0130 Accuracy 0.9964\n",
            "Epoch 12 Batch 150 Loss 0.0126 Accuracy 0.9964\n",
            "Saving checkpoint for epoch 12 at drive/MyDrive/Maths Problem Solving BTP/data/ADL Project/checkpoints/training_checkpoints/akshata_transfomer/ckpt-12\n",
            "Epoch 12 Loss 0.0128 Accuracy 0.9964\n",
            "Time taken for 1 epoch: 73.38504362106323 secs\n",
            "\n",
            "Epoch 13 Batch 0 Loss 0.0288 Accuracy 0.9948\n",
            "Epoch 13 Batch 50 Loss 0.0267 Accuracy 0.9941\n",
            "Epoch 13 Batch 100 Loss 0.0306 Accuracy 0.9938\n",
            "Epoch 13 Batch 150 Loss 0.0315 Accuracy 0.9940\n",
            "Saving checkpoint for epoch 13 at drive/MyDrive/Maths Problem Solving BTP/data/ADL Project/checkpoints/training_checkpoints/akshata_transfomer/ckpt-13\n",
            "Epoch 13 Loss 0.0282 Accuracy 0.9945\n",
            "Time taken for 1 epoch: 73.19279742240906 secs\n",
            "\n",
            "Epoch 14 Batch 0 Loss 0.0069 Accuracy 0.9974\n",
            "Epoch 14 Batch 50 Loss 0.0060 Accuracy 0.9981\n",
            "Epoch 14 Batch 100 Loss 0.0069 Accuracy 0.9978\n",
            "Epoch 14 Batch 150 Loss 0.0079 Accuracy 0.9975\n",
            "Saving checkpoint for epoch 14 at drive/MyDrive/Maths Problem Solving BTP/data/ADL Project/checkpoints/training_checkpoints/akshata_transfomer/ckpt-14\n",
            "Epoch 14 Loss 0.0196 Accuracy 0.9956\n",
            "Time taken for 1 epoch: 72.64329099655151 secs\n",
            "\n",
            "Epoch 15 Batch 0 Loss 0.0584 Accuracy 0.9922\n",
            "Epoch 15 Batch 50 Loss 0.0151 Accuracy 0.9975\n",
            "Epoch 15 Batch 100 Loss 0.0128 Accuracy 0.9972\n",
            "Epoch 15 Batch 150 Loss 0.0114 Accuracy 0.9972\n",
            "Saving checkpoint for epoch 15 at drive/MyDrive/Maths Problem Solving BTP/data/ADL Project/checkpoints/training_checkpoints/akshata_transfomer/ckpt-15\n",
            "Epoch 15 Loss 0.0117 Accuracy 0.9971\n",
            "Time taken for 1 epoch: 72.35821723937988 secs\n",
            "\n",
            "Epoch 16 Batch 0 Loss 0.0044 Accuracy 1.0000\n",
            "Epoch 16 Batch 50 Loss 0.0409 Accuracy 0.9922\n",
            "Epoch 16 Batch 100 Loss 0.0304 Accuracy 0.9943\n",
            "Epoch 16 Batch 150 Loss 0.0262 Accuracy 0.9949\n",
            "Saving checkpoint for epoch 16 at drive/MyDrive/Maths Problem Solving BTP/data/ADL Project/checkpoints/training_checkpoints/akshata_transfomer/ckpt-16\n",
            "Epoch 16 Loss 0.0238 Accuracy 0.9951\n",
            "Time taken for 1 epoch: 73.67962789535522 secs\n",
            "\n",
            "Epoch 17 Batch 0 Loss 0.0255 Accuracy 0.9896\n",
            "Epoch 17 Batch 50 Loss 0.0109 Accuracy 0.9970\n",
            "Epoch 17 Batch 100 Loss 0.0116 Accuracy 0.9971\n",
            "Epoch 17 Batch 150 Loss 0.0306 Accuracy 0.9938\n",
            "Saving checkpoint for epoch 17 at drive/MyDrive/Maths Problem Solving BTP/data/ADL Project/checkpoints/training_checkpoints/akshata_transfomer/ckpt-17\n",
            "Epoch 17 Loss 0.0376 Accuracy 0.9927\n",
            "Time taken for 1 epoch: 73.32368803024292 secs\n",
            "\n",
            "Epoch 18 Batch 0 Loss 0.0215 Accuracy 1.0000\n",
            "Epoch 18 Batch 50 Loss 0.0415 Accuracy 0.9928\n",
            "Epoch 18 Batch 100 Loss 0.0265 Accuracy 0.9948\n",
            "Epoch 18 Batch 150 Loss 0.0202 Accuracy 0.9957\n",
            "Saving checkpoint for epoch 18 at drive/MyDrive/Maths Problem Solving BTP/data/ADL Project/checkpoints/training_checkpoints/akshata_transfomer/ckpt-18\n",
            "Epoch 18 Loss 0.0182 Accuracy 0.9959\n",
            "Time taken for 1 epoch: 72.72235441207886 secs\n",
            "\n",
            "Epoch 19 Batch 0 Loss 0.0011 Accuracy 1.0000\n",
            "Epoch 19 Batch 50 Loss 0.0852 Accuracy 0.9883\n",
            "Epoch 19 Batch 100 Loss 0.0778 Accuracy 0.9874\n",
            "Epoch 19 Batch 150 Loss 0.1035 Accuracy 0.9824\n",
            "Saving checkpoint for epoch 19 at drive/MyDrive/Maths Problem Solving BTP/data/ADL Project/checkpoints/training_checkpoints/akshata_transfomer/ckpt-19\n",
            "Epoch 19 Loss 0.0863 Accuracy 0.9851\n",
            "Time taken for 1 epoch: 72.5236325263977 secs\n",
            "\n",
            "Epoch 20 Batch 0 Loss 0.0042 Accuracy 0.9974\n",
            "Epoch 20 Batch 50 Loss 0.0086 Accuracy 0.9982\n",
            "Epoch 20 Batch 100 Loss 0.0088 Accuracy 0.9981\n",
            "Epoch 20 Batch 150 Loss 0.0135 Accuracy 0.9969\n",
            "Saving checkpoint for epoch 20 at drive/MyDrive/Maths Problem Solving BTP/data/ADL Project/checkpoints/training_checkpoints/akshata_transfomer/ckpt-20\n",
            "Epoch 20 Loss 0.0137 Accuracy 0.9967\n",
            "Time taken for 1 epoch: 73.76418805122375 secs\n",
            "\n"
          ]
        }
      ]
    },
    {
      "cell_type": "code",
      "metadata": {
        "id": "S8L77TnZpEiz"
      },
      "source": [
        "def evaluate(inp_sentence):\n",
        "  start_token = [len(inp_lang_tokenizer)+1]\n",
        "  end_token = [len(inp_lang_tokenizer)+2]\n",
        "  \n",
        "  # inp sentence is the word problem, hence adding the start and end token\n",
        "  inp_sentence = start_token + [inp_lang_tokenizer[i] for i in preprocess_input(inp_sentence).split(' ')]+end_token\n",
        "  encoder_input = tf.expand_dims(inp_sentence, 0)\n",
        "  \n",
        "  # start with equation's start token\n",
        "  decoder_input = [old_len+1]\n",
        "  output = tf.expand_dims(decoder_input, 0)\n",
        "    \n",
        "  for i in range(MAX_LENGTH):\n",
        "    enc_padding_mask, combined_mask, dec_padding_mask = create_masks(\n",
        "        encoder_input, output)\n",
        "  \n",
        "    predictions, attention_weights = transformer(encoder_input, \n",
        "                                                 output,\n",
        "                                                 False,\n",
        "                                                 enc_padding_mask,\n",
        "                                                 combined_mask,\n",
        "                                                 dec_padding_mask)\n",
        "    \n",
        "    # select the last word from the seq_len dimension\n",
        "    predictions = predictions[: ,-1:, :] \n",
        "    predicted_id = tf.cast(tf.argmax(predictions, axis=-1), tf.int32)\n",
        "    \n",
        "    # return the result if the predicted_id is equal to the end token\n",
        "    if predicted_id == old_len+2:\n",
        "      return tf.squeeze(output, axis=0), attention_weights\n",
        "    \n",
        "    # concatentate the predicted_id to the output which is given to the decoder\n",
        "    # as its input.\n",
        "    output = tf.concat([output, predicted_id], axis=-1)\n",
        "  return tf.squeeze(output, axis=0), attention_weights"
      ],
      "execution_count": 56,
      "outputs": []
    },
    {
      "cell_type": "code",
      "metadata": {
        "id": "Safaz4W1pGR7"
      },
      "source": [
        "def plot_attention_weights(attention, sentence, result, layer):\n",
        "  fig = plt.figure(figsize=(16, 8))\n",
        "  \n",
        "  sentence = preprocess_input(sentence)\n",
        "  \n",
        "  attention = tf.squeeze(attention[layer], axis=0)\n",
        "  \n",
        "  for head in range(attention.shape[0]):\n",
        "    ax = fig.add_subplot(2, 4, head+1)\n",
        "    \n",
        "    # plot the attention weights\n",
        "    ax.matshow(attention[head][:-1, :], cmap='viridis')\n",
        "    \n",
        "    fontdict = {'fontsize': 10}\n",
        "    \n",
        "    ax.set_xticks(range(len(sentence.split(' '))+2))\n",
        "    ax.set_yticks(range(len([targ_lang_reverse_tokenizer[i] for i in list(result.numpy()) \n",
        "                        if i < len(targ_lang_tokenizer) and i not in [0,old_len+1,old_len+2]])+3))\n",
        "    \n",
        "    \n",
        "    ax.set_ylim(len([targ_lang_reverse_tokenizer[i] for i in list(result.numpy()) \n",
        "                        if i < len(targ_lang_tokenizer) and i not in [0,old_len+1,old_len+2]]), -0.5)\n",
        "        \n",
        "    ax.set_xticklabels(\n",
        "        ['<start>']+sentence.split(' ')+['<end>'], \n",
        "        fontdict=fontdict, rotation=90)\n",
        "    \n",
        "    ax.set_yticklabels([targ_lang_reverse_tokenizer[i] for i in list(result.numpy()) \n",
        "                        if i < len(targ_lang_tokenizer) and i not in [0,old_len+1,old_len+2]], \n",
        "                       fontdict=fontdict)\n",
        "    \n",
        "    ax.set_xlabel('Head {}'.format(head+1))\n",
        "  \n",
        "  plt.tight_layout()\n",
        "  plt.show()"
      ],
      "execution_count": 57,
      "outputs": []
    },
    {
      "cell_type": "code",
      "metadata": {
        "colab": {
          "base_uri": "https://localhost:8080/"
        },
        "id": "v2PTHFCaa6Wj",
        "outputId": "335f2f3e-fb83-4a80-c0e6-926b4f236306"
      },
      "source": [
        "old_len"
      ],
      "execution_count": 58,
      "outputs": [
        {
          "output_type": "execute_result",
          "data": {
            "text/plain": [
              "440"
            ]
          },
          "metadata": {},
          "execution_count": 58
        }
      ]
    },
    {
      "cell_type": "code",
      "metadata": {
        "id": "7L0JR39qpHvV"
      },
      "source": [
        "MAX_LENGTH = 40\n",
        "def translate(sentence, plot=''):\n",
        "  result, attention_weights = evaluate(sentence)\n",
        "  # print('result',list(result.numpy()))\n",
        "\n",
        "  # use the result tokens to convert prediction into a list of characters\n",
        "  # (not inclusing padding, start and end tokens)\n",
        "  # predicted_sentence = [targ_lang_reverse_tokenizer[i] for i in list(result.numpy()) if (i < len(targ_lang_tokenizer) and i not in [0,46,47])]  \n",
        "  predicted_sentence = [targ_lang_reverse_tokenizer[i] for i in list(result.numpy()) if (i < len(targ_lang_tokenizer) and i not in [0,old_len+1,old_len+2])] \n",
        "  print('Input: {}'.format(sentence))\n",
        "  print('Predicted translation: {}'.format(' '.join(predicted_sentence)))\n",
        "  \n",
        "  if plot:\n",
        "    plot_attention_weights(attention_weights, sentence, result, plot)"
      ],
      "execution_count": 59,
      "outputs": []
    },
    {
      "cell_type": "code",
      "metadata": {
        "id": "B-V-hA_5pJrc"
      },
      "source": [
        "def evaluate_results(inp_sentence):\n",
        "  start_token = [len(inp_lang_tokenizer)+1]\n",
        "  end_token = [len(inp_lang_tokenizer)+2]\n",
        "  \n",
        "  # inp sentence is the word problem, hence adding the start and end token\n",
        "  inp_sentence = start_token + list(inp_sentence.numpy()[0]) + end_token\n",
        "  \n",
        "  encoder_input = tf.expand_dims(inp_sentence, 0)\n",
        "  \n",
        "  \n",
        "  decoder_input = [old_len+1]\n",
        "  output = tf.expand_dims(decoder_input, 0)\n",
        "    \n",
        "  for i in range(MAX_LENGTH):\n",
        "    enc_padding_mask, combined_mask, dec_padding_mask = create_masks(\n",
        "        encoder_input, output)\n",
        "  \n",
        "    # predictions.shape == (batch_size, seq_len, vocab_size)\n",
        "    predictions, attention_weights = transformer(encoder_input, \n",
        "                                                 output,\n",
        "                                                 False,\n",
        "                                                 enc_padding_mask,\n",
        "                                                 combined_mask,\n",
        "                                                 dec_padding_mask)\n",
        "    \n",
        "    # select the last word from the seq_len dimension\n",
        "    predictions = predictions[: ,-1:, :]  # (batch_size, 1, vocab_size)\n",
        "\n",
        "    predicted_id = tf.cast(tf.argmax(predictions, axis=-1), tf.int32)\n",
        "    \n",
        "    # return the result if the predicted_id is equal to the end token\n",
        "    if predicted_id == old_len+2:\n",
        "      return tf.squeeze(output, axis=0), attention_weights\n",
        "    \n",
        "    # concatentate the predicted_id to the output which is given to the decoder\n",
        "    # as its input.\n",
        "    output = tf.concat([output, predicted_id], axis=-1)\n",
        "\n",
        "  return tf.squeeze(output, axis=0), attention_weights"
      ],
      "execution_count": 60,
      "outputs": []
    },
    {
      "cell_type": "code",
      "metadata": {
        "id": "vGU6I1V4pMDF"
      },
      "source": [
        "dataset_val = tf.data.Dataset.from_tensor_slices((input_tensor_val, target_tensor_val)).shuffle(BUFFER_SIZE)\n",
        "dataset_val = dataset_val.batch(1, drop_remainder=True)"
      ],
      "execution_count": 61,
      "outputs": []
    },
    {
      "cell_type": "code",
      "metadata": {
        "colab": {
          "base_uri": "https://localhost:8080/"
        },
        "id": "yWji-G-8pL8R",
        "outputId": "74448262-1841-47b6-cbf6-3418e931ac12"
      },
      "source": [
        "y_true = []\n",
        "y_pred = []\n",
        "acc_cnt = 0\n",
        "\n",
        "a = 0\n",
        "for (inp_val_batch, target_val_batch) in iter(dataset_val):\n",
        "  a += 1\n",
        "  if a % 10 == 0:\n",
        "    print(a)\n",
        "    print(\"Accuracy count: \",acc_cnt)\n",
        "    print('------------------')\n",
        "  target_sentence = ''\n",
        "  \n",
        "  for i in target_val_batch.numpy()[0]:\n",
        "    if i not in [0,old_len+1,old_len+2]:\n",
        "      target_sentence += (targ_lang_reverse_tokenizer[i] + ' ')\n",
        "  \n",
        "  y_true.append([target_sentence.split(' ')[:-1]])\n",
        "  \n",
        "  result, _ = evaluate_results(inp_val_batch)\n",
        "  predicted_sentence = [targ_lang_reverse_tokenizer[i] for i in list(result.numpy()) if (i < len(targ_lang_tokenizer) and i not in [0,old_len+1,old_len+2])] \n",
        "  y_pred.append(predicted_sentence)\n",
        "  \n",
        "  if target_sentence.split(' ')[:-1] == predicted_sentence:\n",
        "    acc_cnt += 1"
      ],
      "execution_count": 62,
      "outputs": [
        {
          "output_type": "stream",
          "name": "stdout",
          "text": [
            "10\n",
            "Accuracy count:  8\n",
            "------------------\n",
            "20\n",
            "Accuracy count:  18\n",
            "------------------\n",
            "30\n",
            "Accuracy count:  27\n",
            "------------------\n",
            "40\n",
            "Accuracy count:  36\n",
            "------------------\n",
            "50\n",
            "Accuracy count:  44\n",
            "------------------\n",
            "60\n",
            "Accuracy count:  52\n",
            "------------------\n",
            "70\n",
            "Accuracy count:  62\n",
            "------------------\n",
            "80\n",
            "Accuracy count:  71\n",
            "------------------\n",
            "90\n",
            "Accuracy count:  78\n",
            "------------------\n",
            "100\n",
            "Accuracy count:  88\n",
            "------------------\n",
            "110\n",
            "Accuracy count:  97\n",
            "------------------\n",
            "120\n",
            "Accuracy count:  107\n",
            "------------------\n",
            "130\n",
            "Accuracy count:  117\n",
            "------------------\n",
            "140\n",
            "Accuracy count:  126\n",
            "------------------\n",
            "150\n",
            "Accuracy count:  135\n",
            "------------------\n",
            "160\n",
            "Accuracy count:  144\n",
            "------------------\n",
            "170\n",
            "Accuracy count:  153\n",
            "------------------\n",
            "180\n",
            "Accuracy count:  159\n",
            "------------------\n",
            "190\n",
            "Accuracy count:  169\n",
            "------------------\n",
            "200\n",
            "Accuracy count:  178\n",
            "------------------\n",
            "210\n",
            "Accuracy count:  188\n",
            "------------------\n",
            "220\n",
            "Accuracy count:  198\n",
            "------------------\n",
            "230\n",
            "Accuracy count:  207\n",
            "------------------\n",
            "240\n",
            "Accuracy count:  215\n",
            "------------------\n",
            "250\n",
            "Accuracy count:  225\n",
            "------------------\n",
            "260\n",
            "Accuracy count:  234\n",
            "------------------\n",
            "270\n",
            "Accuracy count:  241\n",
            "------------------\n",
            "280\n",
            "Accuracy count:  249\n",
            "------------------\n",
            "290\n",
            "Accuracy count:  257\n",
            "------------------\n",
            "300\n",
            "Accuracy count:  266\n",
            "------------------\n",
            "310\n",
            "Accuracy count:  276\n",
            "------------------\n",
            "320\n",
            "Accuracy count:  283\n",
            "------------------\n",
            "330\n",
            "Accuracy count:  293\n",
            "------------------\n",
            "340\n",
            "Accuracy count:  302\n",
            "------------------\n",
            "350\n",
            "Accuracy count:  312\n",
            "------------------\n",
            "360\n",
            "Accuracy count:  321\n",
            "------------------\n",
            "370\n",
            "Accuracy count:  330\n",
            "------------------\n",
            "380\n",
            "Accuracy count:  340\n",
            "------------------\n",
            "390\n",
            "Accuracy count:  350\n",
            "------------------\n",
            "400\n",
            "Accuracy count:  359\n",
            "------------------\n",
            "410\n",
            "Accuracy count:  366\n",
            "------------------\n",
            "420\n",
            "Accuracy count:  376\n",
            "------------------\n",
            "430\n",
            "Accuracy count:  385\n",
            "------------------\n",
            "440\n",
            "Accuracy count:  394\n",
            "------------------\n",
            "450\n",
            "Accuracy count:  401\n",
            "------------------\n",
            "460\n",
            "Accuracy count:  410\n",
            "------------------\n",
            "470\n",
            "Accuracy count:  419\n",
            "------------------\n",
            "480\n",
            "Accuracy count:  428\n",
            "------------------\n",
            "490\n",
            "Accuracy count:  437\n",
            "------------------\n",
            "500\n",
            "Accuracy count:  445\n",
            "------------------\n",
            "510\n",
            "Accuracy count:  455\n",
            "------------------\n",
            "520\n",
            "Accuracy count:  463\n",
            "------------------\n",
            "530\n",
            "Accuracy count:  472\n",
            "------------------\n",
            "540\n",
            "Accuracy count:  482\n",
            "------------------\n",
            "550\n",
            "Accuracy count:  490\n",
            "------------------\n",
            "560\n",
            "Accuracy count:  499\n",
            "------------------\n",
            "570\n",
            "Accuracy count:  508\n",
            "------------------\n",
            "580\n",
            "Accuracy count:  516\n",
            "------------------\n",
            "590\n",
            "Accuracy count:  525\n",
            "------------------\n",
            "600\n",
            "Accuracy count:  533\n",
            "------------------\n",
            "610\n",
            "Accuracy count:  542\n",
            "------------------\n",
            "620\n",
            "Accuracy count:  551\n",
            "------------------\n"
          ]
        }
      ]
    },
    {
      "cell_type": "code",
      "metadata": {
        "id": "tVNt7F_QpQJX",
        "colab": {
          "base_uri": "https://localhost:8080/"
        },
        "outputId": "cfdcd82d-c299-4cd0-f663-a2f1f339cba0"
      },
      "source": [
        "\n",
        "len(y_true), len(y_pred)\n",
        "print('Corpus BLEU score of the model: ', corpus_bleu(y_true, y_pred))\n",
        "print('Accuracy of the model: ', acc_cnt/len(input_tensor_val))\n",
        "check_str = ' '.join([inp_lang_reverse_tokenizer[i] for i in input_tensor_val[130] if i not in [0,\n",
        "                                                                                                  len(inp_lang_tokenizer)+1,\n",
        "                                                                                                  len(inp_lang_tokenizer)+2]])\n"
      ],
      "execution_count": 63,
      "outputs": [
        {
          "output_type": "stream",
          "name": "stdout",
          "text": [
            "Corpus BLEU score of the model:  0.9577523730389086\n",
            "Accuracy of the model:  0.8896\n"
          ]
        }
      ]
    },
    {
      "cell_type": "code",
      "metadata": {
        "id": "ff1h0c2ppYR5",
        "colab": {
          "base_uri": "https://localhost:8080/",
          "height": 1000
        },
        "outputId": "9f00bee6-3af9-42ea-9f46-9e59007f7f33"
      },
      "source": [
        "\n",
        "check_str\n",
        "translate(check_str,plot='decoder_layer4_block2')\n",
        "check_str = ' '.join([inp_lang_reverse_tokenizer[i] for i in input_tensor_val[0] if i not in [0,\n",
        "                                                                                                  len(inp_lang_tokenizer)+1,\n",
        "                                                                                                  len(inp_lang_tokenizer)+2]])\n",
        "check_str"
      ],
      "execution_count": 64,
      "outputs": [
        {
          "output_type": "stream",
          "name": "stdout",
          "text": [
            "Input: मार्गरेट के पास 353 ब्रेड थे । वह सभी ब्रेड को कुछ दोस्तों के बीच समान रूप से विभाजित करता है । कितने दोस्त थे , अगर उसके प्रत्येक दोस्त को 6 ब्रेड मिलते हैं ?\n",
            "Predicted translation: x = 353 / 6\n"
          ]
        },
        {
          "output_type": "stream",
          "name": "stderr",
          "text": [
            "/usr/local/lib/python3.7/dist-packages/matplotlib/backends/backend_agg.py:214: RuntimeWarning: Glyph 2350 missing from current font.\n",
            "  font.set_text(s, 0.0, flags=flags)\n",
            "/usr/local/lib/python3.7/dist-packages/matplotlib/backends/backend_agg.py:214: RuntimeWarning: Glyph 2366 missing from current font.\n",
            "  font.set_text(s, 0.0, flags=flags)\n",
            "/usr/local/lib/python3.7/dist-packages/matplotlib/backends/backend_agg.py:214: RuntimeWarning: Glyph 2352 missing from current font.\n",
            "  font.set_text(s, 0.0, flags=flags)\n",
            "/usr/local/lib/python3.7/dist-packages/matplotlib/backends/backend_agg.py:214: RuntimeWarning: Glyph 2381 missing from current font.\n",
            "  font.set_text(s, 0.0, flags=flags)\n",
            "/usr/local/lib/python3.7/dist-packages/matplotlib/backends/backend_agg.py:214: RuntimeWarning: Glyph 2327 missing from current font.\n",
            "  font.set_text(s, 0.0, flags=flags)\n",
            "/usr/local/lib/python3.7/dist-packages/matplotlib/backends/backend_agg.py:214: RuntimeWarning: Glyph 2375 missing from current font.\n",
            "  font.set_text(s, 0.0, flags=flags)\n",
            "/usr/local/lib/python3.7/dist-packages/matplotlib/backends/backend_agg.py:214: RuntimeWarning: Glyph 2335 missing from current font.\n",
            "  font.set_text(s, 0.0, flags=flags)\n",
            "/usr/local/lib/python3.7/dist-packages/matplotlib/backends/backend_agg.py:214: RuntimeWarning: Glyph 2325 missing from current font.\n",
            "  font.set_text(s, 0.0, flags=flags)\n",
            "/usr/local/lib/python3.7/dist-packages/matplotlib/backends/backend_agg.py:214: RuntimeWarning: Glyph 2346 missing from current font.\n",
            "  font.set_text(s, 0.0, flags=flags)\n",
            "/usr/local/lib/python3.7/dist-packages/matplotlib/backends/backend_agg.py:214: RuntimeWarning: Glyph 2360 missing from current font.\n",
            "  font.set_text(s, 0.0, flags=flags)\n",
            "/usr/local/lib/python3.7/dist-packages/matplotlib/backends/backend_agg.py:214: RuntimeWarning: Glyph 2348 missing from current font.\n",
            "  font.set_text(s, 0.0, flags=flags)\n",
            "/usr/local/lib/python3.7/dist-packages/matplotlib/backends/backend_agg.py:214: RuntimeWarning: Glyph 2337 missing from current font.\n",
            "  font.set_text(s, 0.0, flags=flags)\n",
            "/usr/local/lib/python3.7/dist-packages/matplotlib/backends/backend_agg.py:214: RuntimeWarning: Glyph 2341 missing from current font.\n",
            "  font.set_text(s, 0.0, flags=flags)\n",
            "/usr/local/lib/python3.7/dist-packages/matplotlib/backends/backend_agg.py:214: RuntimeWarning: Glyph 2404 missing from current font.\n",
            "  font.set_text(s, 0.0, flags=flags)\n",
            "/usr/local/lib/python3.7/dist-packages/matplotlib/backends/backend_agg.py:214: RuntimeWarning: Glyph 2357 missing from current font.\n",
            "  font.set_text(s, 0.0, flags=flags)\n",
            "/usr/local/lib/python3.7/dist-packages/matplotlib/backends/backend_agg.py:214: RuntimeWarning: Glyph 2361 missing from current font.\n",
            "  font.set_text(s, 0.0, flags=flags)\n",
            "/usr/local/lib/python3.7/dist-packages/matplotlib/backends/backend_agg.py:214: RuntimeWarning: Glyph 2349 missing from current font.\n",
            "  font.set_text(s, 0.0, flags=flags)\n",
            "/usr/local/lib/python3.7/dist-packages/matplotlib/backends/backend_agg.py:214: RuntimeWarning: Glyph 2368 missing from current font.\n",
            "  font.set_text(s, 0.0, flags=flags)\n",
            "/usr/local/lib/python3.7/dist-packages/matplotlib/backends/backend_agg.py:214: RuntimeWarning: Glyph 2379 missing from current font.\n",
            "  font.set_text(s, 0.0, flags=flags)\n",
            "/usr/local/lib/python3.7/dist-packages/matplotlib/backends/backend_agg.py:214: RuntimeWarning: Glyph 2369 missing from current font.\n",
            "  font.set_text(s, 0.0, flags=flags)\n",
            "/usr/local/lib/python3.7/dist-packages/matplotlib/backends/backend_agg.py:214: RuntimeWarning: Glyph 2331 missing from current font.\n",
            "  font.set_text(s, 0.0, flags=flags)\n",
            "/usr/local/lib/python3.7/dist-packages/matplotlib/backends/backend_agg.py:214: RuntimeWarning: Glyph 2342 missing from current font.\n",
            "  font.set_text(s, 0.0, flags=flags)\n",
            "/usr/local/lib/python3.7/dist-packages/matplotlib/backends/backend_agg.py:214: RuntimeWarning: Glyph 2340 missing from current font.\n",
            "  font.set_text(s, 0.0, flags=flags)\n",
            "/usr/local/lib/python3.7/dist-packages/matplotlib/backends/backend_agg.py:214: RuntimeWarning: Glyph 2306 missing from current font.\n",
            "  font.set_text(s, 0.0, flags=flags)\n",
            "/usr/local/lib/python3.7/dist-packages/matplotlib/backends/backend_agg.py:214: RuntimeWarning: Glyph 2330 missing from current font.\n",
            "  font.set_text(s, 0.0, flags=flags)\n",
            "/usr/local/lib/python3.7/dist-packages/matplotlib/backends/backend_agg.py:214: RuntimeWarning: Glyph 2344 missing from current font.\n",
            "  font.set_text(s, 0.0, flags=flags)\n",
            "/usr/local/lib/python3.7/dist-packages/matplotlib/backends/backend_agg.py:214: RuntimeWarning: Glyph 2370 missing from current font.\n",
            "  font.set_text(s, 0.0, flags=flags)\n",
            "/usr/local/lib/python3.7/dist-packages/matplotlib/backends/backend_agg.py:214: RuntimeWarning: Glyph 2367 missing from current font.\n",
            "  font.set_text(s, 0.0, flags=flags)\n",
            "/usr/local/lib/python3.7/dist-packages/matplotlib/backends/backend_agg.py:214: RuntimeWarning: Glyph 2332 missing from current font.\n",
            "  font.set_text(s, 0.0, flags=flags)\n",
            "/usr/local/lib/python3.7/dist-packages/matplotlib/backends/backend_agg.py:214: RuntimeWarning: Glyph 2376 missing from current font.\n",
            "  font.set_text(s, 0.0, flags=flags)\n",
            "/usr/local/lib/python3.7/dist-packages/matplotlib/backends/backend_agg.py:214: RuntimeWarning: Glyph 2309 missing from current font.\n",
            "  font.set_text(s, 0.0, flags=flags)\n",
            "/usr/local/lib/python3.7/dist-packages/matplotlib/backends/backend_agg.py:214: RuntimeWarning: Glyph 2313 missing from current font.\n",
            "  font.set_text(s, 0.0, flags=flags)\n",
            "/usr/local/lib/python3.7/dist-packages/matplotlib/backends/backend_agg.py:214: RuntimeWarning: Glyph 2351 missing from current font.\n",
            "  font.set_text(s, 0.0, flags=flags)\n",
            "/usr/local/lib/python3.7/dist-packages/matplotlib/backends/backend_agg.py:214: RuntimeWarning: Glyph 2354 missing from current font.\n",
            "  font.set_text(s, 0.0, flags=flags)\n",
            "/usr/local/lib/python3.7/dist-packages/matplotlib/backends/backend_agg.py:183: RuntimeWarning: Glyph 2350 missing from current font.\n",
            "  font.set_text(s, 0, flags=flags)\n",
            "/usr/local/lib/python3.7/dist-packages/matplotlib/backends/backend_agg.py:183: RuntimeWarning: Glyph 2366 missing from current font.\n",
            "  font.set_text(s, 0, flags=flags)\n",
            "/usr/local/lib/python3.7/dist-packages/matplotlib/backends/backend_agg.py:183: RuntimeWarning: Glyph 2352 missing from current font.\n",
            "  font.set_text(s, 0, flags=flags)\n",
            "/usr/local/lib/python3.7/dist-packages/matplotlib/backends/backend_agg.py:183: RuntimeWarning: Glyph 2381 missing from current font.\n",
            "  font.set_text(s, 0, flags=flags)\n",
            "/usr/local/lib/python3.7/dist-packages/matplotlib/backends/backend_agg.py:183: RuntimeWarning: Glyph 2327 missing from current font.\n",
            "  font.set_text(s, 0, flags=flags)\n",
            "/usr/local/lib/python3.7/dist-packages/matplotlib/backends/backend_agg.py:183: RuntimeWarning: Glyph 2375 missing from current font.\n",
            "  font.set_text(s, 0, flags=flags)\n",
            "/usr/local/lib/python3.7/dist-packages/matplotlib/backends/backend_agg.py:183: RuntimeWarning: Glyph 2335 missing from current font.\n",
            "  font.set_text(s, 0, flags=flags)\n",
            "/usr/local/lib/python3.7/dist-packages/matplotlib/backends/backend_agg.py:183: RuntimeWarning: Glyph 2325 missing from current font.\n",
            "  font.set_text(s, 0, flags=flags)\n",
            "/usr/local/lib/python3.7/dist-packages/matplotlib/backends/backend_agg.py:183: RuntimeWarning: Glyph 2346 missing from current font.\n",
            "  font.set_text(s, 0, flags=flags)\n",
            "/usr/local/lib/python3.7/dist-packages/matplotlib/backends/backend_agg.py:183: RuntimeWarning: Glyph 2360 missing from current font.\n",
            "  font.set_text(s, 0, flags=flags)\n",
            "/usr/local/lib/python3.7/dist-packages/matplotlib/backends/backend_agg.py:183: RuntimeWarning: Glyph 2348 missing from current font.\n",
            "  font.set_text(s, 0, flags=flags)\n",
            "/usr/local/lib/python3.7/dist-packages/matplotlib/backends/backend_agg.py:183: RuntimeWarning: Glyph 2337 missing from current font.\n",
            "  font.set_text(s, 0, flags=flags)\n",
            "/usr/local/lib/python3.7/dist-packages/matplotlib/backends/backend_agg.py:183: RuntimeWarning: Glyph 2341 missing from current font.\n",
            "  font.set_text(s, 0, flags=flags)\n",
            "/usr/local/lib/python3.7/dist-packages/matplotlib/backends/backend_agg.py:183: RuntimeWarning: Glyph 2404 missing from current font.\n",
            "  font.set_text(s, 0, flags=flags)\n",
            "/usr/local/lib/python3.7/dist-packages/matplotlib/backends/backend_agg.py:183: RuntimeWarning: Glyph 2357 missing from current font.\n",
            "  font.set_text(s, 0, flags=flags)\n",
            "/usr/local/lib/python3.7/dist-packages/matplotlib/backends/backend_agg.py:183: RuntimeWarning: Glyph 2361 missing from current font.\n",
            "  font.set_text(s, 0, flags=flags)\n",
            "/usr/local/lib/python3.7/dist-packages/matplotlib/backends/backend_agg.py:183: RuntimeWarning: Glyph 2349 missing from current font.\n",
            "  font.set_text(s, 0, flags=flags)\n",
            "/usr/local/lib/python3.7/dist-packages/matplotlib/backends/backend_agg.py:183: RuntimeWarning: Glyph 2368 missing from current font.\n",
            "  font.set_text(s, 0, flags=flags)\n",
            "/usr/local/lib/python3.7/dist-packages/matplotlib/backends/backend_agg.py:183: RuntimeWarning: Glyph 2379 missing from current font.\n",
            "  font.set_text(s, 0, flags=flags)\n",
            "/usr/local/lib/python3.7/dist-packages/matplotlib/backends/backend_agg.py:183: RuntimeWarning: Glyph 2369 missing from current font.\n",
            "  font.set_text(s, 0, flags=flags)\n",
            "/usr/local/lib/python3.7/dist-packages/matplotlib/backends/backend_agg.py:183: RuntimeWarning: Glyph 2331 missing from current font.\n",
            "  font.set_text(s, 0, flags=flags)\n",
            "/usr/local/lib/python3.7/dist-packages/matplotlib/backends/backend_agg.py:183: RuntimeWarning: Glyph 2342 missing from current font.\n",
            "  font.set_text(s, 0, flags=flags)\n",
            "/usr/local/lib/python3.7/dist-packages/matplotlib/backends/backend_agg.py:183: RuntimeWarning: Glyph 2340 missing from current font.\n",
            "  font.set_text(s, 0, flags=flags)\n",
            "/usr/local/lib/python3.7/dist-packages/matplotlib/backends/backend_agg.py:183: RuntimeWarning: Glyph 2306 missing from current font.\n",
            "  font.set_text(s, 0, flags=flags)\n",
            "/usr/local/lib/python3.7/dist-packages/matplotlib/backends/backend_agg.py:183: RuntimeWarning: Glyph 2330 missing from current font.\n",
            "  font.set_text(s, 0, flags=flags)\n",
            "/usr/local/lib/python3.7/dist-packages/matplotlib/backends/backend_agg.py:183: RuntimeWarning: Glyph 2344 missing from current font.\n",
            "  font.set_text(s, 0, flags=flags)\n",
            "/usr/local/lib/python3.7/dist-packages/matplotlib/backends/backend_agg.py:183: RuntimeWarning: Glyph 2370 missing from current font.\n",
            "  font.set_text(s, 0, flags=flags)\n",
            "/usr/local/lib/python3.7/dist-packages/matplotlib/backends/backend_agg.py:183: RuntimeWarning: Glyph 2367 missing from current font.\n",
            "  font.set_text(s, 0, flags=flags)\n",
            "/usr/local/lib/python3.7/dist-packages/matplotlib/backends/backend_agg.py:183: RuntimeWarning: Glyph 2332 missing from current font.\n",
            "  font.set_text(s, 0, flags=flags)\n",
            "/usr/local/lib/python3.7/dist-packages/matplotlib/backends/backend_agg.py:183: RuntimeWarning: Glyph 2376 missing from current font.\n",
            "  font.set_text(s, 0, flags=flags)\n",
            "/usr/local/lib/python3.7/dist-packages/matplotlib/backends/backend_agg.py:183: RuntimeWarning: Glyph 2309 missing from current font.\n",
            "  font.set_text(s, 0, flags=flags)\n",
            "/usr/local/lib/python3.7/dist-packages/matplotlib/backends/backend_agg.py:183: RuntimeWarning: Glyph 2313 missing from current font.\n",
            "  font.set_text(s, 0, flags=flags)\n",
            "/usr/local/lib/python3.7/dist-packages/matplotlib/backends/backend_agg.py:183: RuntimeWarning: Glyph 2351 missing from current font.\n",
            "  font.set_text(s, 0, flags=flags)\n",
            "/usr/local/lib/python3.7/dist-packages/matplotlib/backends/backend_agg.py:183: RuntimeWarning: Glyph 2354 missing from current font.\n",
            "  font.set_text(s, 0, flags=flags)\n"
          ]
        },
        {
          "output_type": "display_data",
          "data": {
            "image/png": "[encoded data removed]",
            "text/plain": [
              "<Figure size 1152x576 with 8 Axes>"
            ]
          },
          "metadata": {
            "needs_background": "light"
          }
        },
        {
          "output_type": "execute_result",
          "data": {
            "application/vnd.google.colaboratory.intrinsic+json": {
              "type": "string"
            },
            "text/plain": [
              "'मिल्ड्रेड 36 दोस्तों के बीच कुछ बिस्किट बाँटना चाहता है । यदि प्रत्येक मित्र को 38 बिस्किट मिलते हैं , तो कितने बिस्किट जॉन के पास होंगे ?'"
            ]
          },
          "metadata": {},
          "execution_count": 64
        }
      ]
    },
    {
      "cell_type": "code",
      "metadata": {
        "id": "geVj8XFdpeXI",
        "colab": {
          "base_uri": "https://localhost:8080/",
          "height": 1000
        },
        "outputId": "409d9dc8-fadb-4678-edba-c3bad33d7084"
      },
      "source": [
        "translate(check_str,\n",
        "          plot='decoder_layer4_block2')"
      ],
      "execution_count": 65,
      "outputs": [
        {
          "output_type": "stream",
          "name": "stdout",
          "text": [
            "Input: मिल्ड्रेड 36 दोस्तों के बीच कुछ बिस्किट बाँटना चाहता है । यदि प्रत्येक मित्र को 38 बिस्किट मिलते हैं , तो कितने बिस्किट जॉन के पास होंगे ?\n",
            "Predicted translation: x = 38 * 36\n"
          ]
        },
        {
          "output_type": "stream",
          "name": "stderr",
          "text": [
            "/usr/local/lib/python3.7/dist-packages/matplotlib/backends/backend_agg.py:214: RuntimeWarning: Glyph 2350 missing from current font.\n",
            "  font.set_text(s, 0.0, flags=flags)\n",
            "/usr/local/lib/python3.7/dist-packages/matplotlib/backends/backend_agg.py:214: RuntimeWarning: Glyph 2367 missing from current font.\n",
            "  font.set_text(s, 0.0, flags=flags)\n",
            "/usr/local/lib/python3.7/dist-packages/matplotlib/backends/backend_agg.py:214: RuntimeWarning: Glyph 2354 missing from current font.\n",
            "  font.set_text(s, 0.0, flags=flags)\n",
            "/usr/local/lib/python3.7/dist-packages/matplotlib/backends/backend_agg.py:214: RuntimeWarning: Glyph 2381 missing from current font.\n",
            "  font.set_text(s, 0.0, flags=flags)\n",
            "/usr/local/lib/python3.7/dist-packages/matplotlib/backends/backend_agg.py:214: RuntimeWarning: Glyph 2337 missing from current font.\n",
            "  font.set_text(s, 0.0, flags=flags)\n",
            "/usr/local/lib/python3.7/dist-packages/matplotlib/backends/backend_agg.py:214: RuntimeWarning: Glyph 2352 missing from current font.\n",
            "  font.set_text(s, 0.0, flags=flags)\n",
            "/usr/local/lib/python3.7/dist-packages/matplotlib/backends/backend_agg.py:214: RuntimeWarning: Glyph 2375 missing from current font.\n",
            "  font.set_text(s, 0.0, flags=flags)\n",
            "/usr/local/lib/python3.7/dist-packages/matplotlib/backends/backend_agg.py:214: RuntimeWarning: Glyph 2342 missing from current font.\n",
            "  font.set_text(s, 0.0, flags=flags)\n",
            "/usr/local/lib/python3.7/dist-packages/matplotlib/backends/backend_agg.py:214: RuntimeWarning: Glyph 2379 missing from current font.\n",
            "  font.set_text(s, 0.0, flags=flags)\n",
            "/usr/local/lib/python3.7/dist-packages/matplotlib/backends/backend_agg.py:214: RuntimeWarning: Glyph 2360 missing from current font.\n",
            "  font.set_text(s, 0.0, flags=flags)\n",
            "/usr/local/lib/python3.7/dist-packages/matplotlib/backends/backend_agg.py:214: RuntimeWarning: Glyph 2340 missing from current font.\n",
            "  font.set_text(s, 0.0, flags=flags)\n",
            "/usr/local/lib/python3.7/dist-packages/matplotlib/backends/backend_agg.py:214: RuntimeWarning: Glyph 2306 missing from current font.\n",
            "  font.set_text(s, 0.0, flags=flags)\n",
            "/usr/local/lib/python3.7/dist-packages/matplotlib/backends/backend_agg.py:214: RuntimeWarning: Glyph 2325 missing from current font.\n",
            "  font.set_text(s, 0.0, flags=flags)\n",
            "/usr/local/lib/python3.7/dist-packages/matplotlib/backends/backend_agg.py:214: RuntimeWarning: Glyph 2348 missing from current font.\n",
            "  font.set_text(s, 0.0, flags=flags)\n",
            "/usr/local/lib/python3.7/dist-packages/matplotlib/backends/backend_agg.py:214: RuntimeWarning: Glyph 2368 missing from current font.\n",
            "  font.set_text(s, 0.0, flags=flags)\n",
            "/usr/local/lib/python3.7/dist-packages/matplotlib/backends/backend_agg.py:214: RuntimeWarning: Glyph 2330 missing from current font.\n",
            "  font.set_text(s, 0.0, flags=flags)\n",
            "/usr/local/lib/python3.7/dist-packages/matplotlib/backends/backend_agg.py:214: RuntimeWarning: Glyph 2369 missing from current font.\n",
            "  font.set_text(s, 0.0, flags=flags)\n",
            "/usr/local/lib/python3.7/dist-packages/matplotlib/backends/backend_agg.py:214: RuntimeWarning: Glyph 2331 missing from current font.\n",
            "  font.set_text(s, 0.0, flags=flags)\n",
            "/usr/local/lib/python3.7/dist-packages/matplotlib/backends/backend_agg.py:214: RuntimeWarning: Glyph 2335 missing from current font.\n",
            "  font.set_text(s, 0.0, flags=flags)\n",
            "/usr/local/lib/python3.7/dist-packages/matplotlib/backends/backend_agg.py:214: RuntimeWarning: Glyph 2366 missing from current font.\n",
            "  font.set_text(s, 0.0, flags=flags)\n",
            "/usr/local/lib/python3.7/dist-packages/matplotlib/backends/backend_agg.py:214: RuntimeWarning: Glyph 2305 missing from current font.\n",
            "  font.set_text(s, 0.0, flags=flags)\n",
            "/usr/local/lib/python3.7/dist-packages/matplotlib/backends/backend_agg.py:214: RuntimeWarning: Glyph 2344 missing from current font.\n",
            "  font.set_text(s, 0.0, flags=flags)\n",
            "/usr/local/lib/python3.7/dist-packages/matplotlib/backends/backend_agg.py:214: RuntimeWarning: Glyph 2361 missing from current font.\n",
            "  font.set_text(s, 0.0, flags=flags)\n",
            "/usr/local/lib/python3.7/dist-packages/matplotlib/backends/backend_agg.py:214: RuntimeWarning: Glyph 2376 missing from current font.\n",
            "  font.set_text(s, 0.0, flags=flags)\n",
            "/usr/local/lib/python3.7/dist-packages/matplotlib/backends/backend_agg.py:214: RuntimeWarning: Glyph 2404 missing from current font.\n",
            "  font.set_text(s, 0.0, flags=flags)\n",
            "/usr/local/lib/python3.7/dist-packages/matplotlib/backends/backend_agg.py:214: RuntimeWarning: Glyph 2351 missing from current font.\n",
            "  font.set_text(s, 0.0, flags=flags)\n",
            "/usr/local/lib/python3.7/dist-packages/matplotlib/backends/backend_agg.py:214: RuntimeWarning: Glyph 2346 missing from current font.\n",
            "  font.set_text(s, 0.0, flags=flags)\n",
            "/usr/local/lib/python3.7/dist-packages/matplotlib/backends/backend_agg.py:214: RuntimeWarning: Glyph 2332 missing from current font.\n",
            "  font.set_text(s, 0.0, flags=flags)\n",
            "/usr/local/lib/python3.7/dist-packages/matplotlib/backends/backend_agg.py:214: RuntimeWarning: Glyph 2377 missing from current font.\n",
            "  font.set_text(s, 0.0, flags=flags)\n",
            "/usr/local/lib/python3.7/dist-packages/matplotlib/backends/backend_agg.py:214: RuntimeWarning: Glyph 2327 missing from current font.\n",
            "  font.set_text(s, 0.0, flags=flags)\n",
            "/usr/local/lib/python3.7/dist-packages/matplotlib/backends/backend_agg.py:183: RuntimeWarning: Glyph 2350 missing from current font.\n",
            "  font.set_text(s, 0, flags=flags)\n",
            "/usr/local/lib/python3.7/dist-packages/matplotlib/backends/backend_agg.py:183: RuntimeWarning: Glyph 2367 missing from current font.\n",
            "  font.set_text(s, 0, flags=flags)\n",
            "/usr/local/lib/python3.7/dist-packages/matplotlib/backends/backend_agg.py:183: RuntimeWarning: Glyph 2354 missing from current font.\n",
            "  font.set_text(s, 0, flags=flags)\n",
            "/usr/local/lib/python3.7/dist-packages/matplotlib/backends/backend_agg.py:183: RuntimeWarning: Glyph 2381 missing from current font.\n",
            "  font.set_text(s, 0, flags=flags)\n",
            "/usr/local/lib/python3.7/dist-packages/matplotlib/backends/backend_agg.py:183: RuntimeWarning: Glyph 2337 missing from current font.\n",
            "  font.set_text(s, 0, flags=flags)\n",
            "/usr/local/lib/python3.7/dist-packages/matplotlib/backends/backend_agg.py:183: RuntimeWarning: Glyph 2352 missing from current font.\n",
            "  font.set_text(s, 0, flags=flags)\n",
            "/usr/local/lib/python3.7/dist-packages/matplotlib/backends/backend_agg.py:183: RuntimeWarning: Glyph 2375 missing from current font.\n",
            "  font.set_text(s, 0, flags=flags)\n",
            "/usr/local/lib/python3.7/dist-packages/matplotlib/backends/backend_agg.py:183: RuntimeWarning: Glyph 2342 missing from current font.\n",
            "  font.set_text(s, 0, flags=flags)\n",
            "/usr/local/lib/python3.7/dist-packages/matplotlib/backends/backend_agg.py:183: RuntimeWarning: Glyph 2379 missing from current font.\n",
            "  font.set_text(s, 0, flags=flags)\n",
            "/usr/local/lib/python3.7/dist-packages/matplotlib/backends/backend_agg.py:183: RuntimeWarning: Glyph 2360 missing from current font.\n",
            "  font.set_text(s, 0, flags=flags)\n",
            "/usr/local/lib/python3.7/dist-packages/matplotlib/backends/backend_agg.py:183: RuntimeWarning: Glyph 2340 missing from current font.\n",
            "  font.set_text(s, 0, flags=flags)\n",
            "/usr/local/lib/python3.7/dist-packages/matplotlib/backends/backend_agg.py:183: RuntimeWarning: Glyph 2306 missing from current font.\n",
            "  font.set_text(s, 0, flags=flags)\n",
            "/usr/local/lib/python3.7/dist-packages/matplotlib/backends/backend_agg.py:183: RuntimeWarning: Glyph 2325 missing from current font.\n",
            "  font.set_text(s, 0, flags=flags)\n",
            "/usr/local/lib/python3.7/dist-packages/matplotlib/backends/backend_agg.py:183: RuntimeWarning: Glyph 2348 missing from current font.\n",
            "  font.set_text(s, 0, flags=flags)\n",
            "/usr/local/lib/python3.7/dist-packages/matplotlib/backends/backend_agg.py:183: RuntimeWarning: Glyph 2368 missing from current font.\n",
            "  font.set_text(s, 0, flags=flags)\n",
            "/usr/local/lib/python3.7/dist-packages/matplotlib/backends/backend_agg.py:183: RuntimeWarning: Glyph 2330 missing from current font.\n",
            "  font.set_text(s, 0, flags=flags)\n",
            "/usr/local/lib/python3.7/dist-packages/matplotlib/backends/backend_agg.py:183: RuntimeWarning: Glyph 2369 missing from current font.\n",
            "  font.set_text(s, 0, flags=flags)\n",
            "/usr/local/lib/python3.7/dist-packages/matplotlib/backends/backend_agg.py:183: RuntimeWarning: Glyph 2331 missing from current font.\n",
            "  font.set_text(s, 0, flags=flags)\n",
            "/usr/local/lib/python3.7/dist-packages/matplotlib/backends/backend_agg.py:183: RuntimeWarning: Glyph 2335 missing from current font.\n",
            "  font.set_text(s, 0, flags=flags)\n",
            "/usr/local/lib/python3.7/dist-packages/matplotlib/backends/backend_agg.py:183: RuntimeWarning: Glyph 2366 missing from current font.\n",
            "  font.set_text(s, 0, flags=flags)\n",
            "/usr/local/lib/python3.7/dist-packages/matplotlib/backends/backend_agg.py:183: RuntimeWarning: Glyph 2305 missing from current font.\n",
            "  font.set_text(s, 0, flags=flags)\n",
            "/usr/local/lib/python3.7/dist-packages/matplotlib/backends/backend_agg.py:183: RuntimeWarning: Glyph 2344 missing from current font.\n",
            "  font.set_text(s, 0, flags=flags)\n",
            "/usr/local/lib/python3.7/dist-packages/matplotlib/backends/backend_agg.py:183: RuntimeWarning: Glyph 2361 missing from current font.\n",
            "  font.set_text(s, 0, flags=flags)\n",
            "/usr/local/lib/python3.7/dist-packages/matplotlib/backends/backend_agg.py:183: RuntimeWarning: Glyph 2376 missing from current font.\n",
            "  font.set_text(s, 0, flags=flags)\n",
            "/usr/local/lib/python3.7/dist-packages/matplotlib/backends/backend_agg.py:183: RuntimeWarning: Glyph 2404 missing from current font.\n",
            "  font.set_text(s, 0, flags=flags)\n",
            "/usr/local/lib/python3.7/dist-packages/matplotlib/backends/backend_agg.py:183: RuntimeWarning: Glyph 2351 missing from current font.\n",
            "  font.set_text(s, 0, flags=flags)\n",
            "/usr/local/lib/python3.7/dist-packages/matplotlib/backends/backend_agg.py:183: RuntimeWarning: Glyph 2346 missing from current font.\n",
            "  font.set_text(s, 0, flags=flags)\n",
            "/usr/local/lib/python3.7/dist-packages/matplotlib/backends/backend_agg.py:183: RuntimeWarning: Glyph 2332 missing from current font.\n",
            "  font.set_text(s, 0, flags=flags)\n",
            "/usr/local/lib/python3.7/dist-packages/matplotlib/backends/backend_agg.py:183: RuntimeWarning: Glyph 2377 missing from current font.\n",
            "  font.set_text(s, 0, flags=flags)\n",
            "/usr/local/lib/python3.7/dist-packages/matplotlib/backends/backend_agg.py:183: RuntimeWarning: Glyph 2327 missing from current font.\n",
            "  font.set_text(s, 0, flags=flags)\n"
          ]
        },
        {
          "output_type": "display_data",
          "data": {
            "image/png": "[encoded data removed]",
            "text/plain": [
              "<Figure size 1152x576 with 8 Axes>"
            ]
          },
          "metadata": {
            "needs_background": "light"
          }
        }
      ]
    },
    {
      "cell_type": "code",
      "metadata": {
        "id": "7ihEggnjpjY8",
        "colab": {
          "base_uri": "https://localhost:8080/",
          "height": 36
        },
        "outputId": "63b34c5e-004d-432b-aab1-a741ea88f085"
      },
      "source": [
        "check_str = ' '.join([inp_lang_reverse_tokenizer[i] for i in input_tensor_val[110] if i not in [0,\n",
        "                                                                                                  len(inp_lang_tokenizer)+1,\n",
        "                                                                                                  len(inp_lang_tokenizer)+2]])\n",
        "check_str"
      ],
      "execution_count": 66,
      "outputs": [
        {
          "output_type": "execute_result",
          "data": {
            "application/vnd.google.colaboratory.intrinsic+json": {
              "type": "string"
            },
            "text/plain": [
              "'जेम्स के पास 18 मार्बल हैं । केनेथ ने उन्हें 68 और दिए । जेम्स के पास कितने मार्बल्स हैं ?'"
            ]
          },
          "metadata": {},
          "execution_count": 66
        }
      ]
    },
    {
      "cell_type": "code",
      "metadata": {
        "id": "CIIRlB2rpj24",
        "colab": {
          "base_uri": "https://localhost:8080/",
          "height": 1000
        },
        "outputId": "53fd11f3-9b12-44d3-da1b-ee2e7ce941d5"
      },
      "source": [
        "translate(check_str,\n",
        "          plot='decoder_layer4_block2')"
      ],
      "execution_count": 67,
      "outputs": [
        {
          "output_type": "stream",
          "name": "stdout",
          "text": [
            "Input: जेम्स के पास 18 मार्बल हैं । केनेथ ने उन्हें 68 और दिए । जेम्स के पास कितने मार्बल्स हैं ?\n",
            "Predicted translation: x = 68 + 18\n"
          ]
        },
        {
          "output_type": "stream",
          "name": "stderr",
          "text": [
            "/usr/local/lib/python3.7/dist-packages/matplotlib/backends/backend_agg.py:214: RuntimeWarning: Glyph 2332 missing from current font.\n",
            "  font.set_text(s, 0.0, flags=flags)\n",
            "/usr/local/lib/python3.7/dist-packages/matplotlib/backends/backend_agg.py:214: RuntimeWarning: Glyph 2375 missing from current font.\n",
            "  font.set_text(s, 0.0, flags=flags)\n",
            "/usr/local/lib/python3.7/dist-packages/matplotlib/backends/backend_agg.py:214: RuntimeWarning: Glyph 2350 missing from current font.\n",
            "  font.set_text(s, 0.0, flags=flags)\n",
            "/usr/local/lib/python3.7/dist-packages/matplotlib/backends/backend_agg.py:214: RuntimeWarning: Glyph 2381 missing from current font.\n",
            "  font.set_text(s, 0.0, flags=flags)\n",
            "/usr/local/lib/python3.7/dist-packages/matplotlib/backends/backend_agg.py:214: RuntimeWarning: Glyph 2360 missing from current font.\n",
            "  font.set_text(s, 0.0, flags=flags)\n",
            "/usr/local/lib/python3.7/dist-packages/matplotlib/backends/backend_agg.py:214: RuntimeWarning: Glyph 2325 missing from current font.\n",
            "  font.set_text(s, 0.0, flags=flags)\n",
            "/usr/local/lib/python3.7/dist-packages/matplotlib/backends/backend_agg.py:214: RuntimeWarning: Glyph 2346 missing from current font.\n",
            "  font.set_text(s, 0.0, flags=flags)\n",
            "/usr/local/lib/python3.7/dist-packages/matplotlib/backends/backend_agg.py:214: RuntimeWarning: Glyph 2366 missing from current font.\n",
            "  font.set_text(s, 0.0, flags=flags)\n",
            "/usr/local/lib/python3.7/dist-packages/matplotlib/backends/backend_agg.py:214: RuntimeWarning: Glyph 2352 missing from current font.\n",
            "  font.set_text(s, 0.0, flags=flags)\n",
            "/usr/local/lib/python3.7/dist-packages/matplotlib/backends/backend_agg.py:214: RuntimeWarning: Glyph 2348 missing from current font.\n",
            "  font.set_text(s, 0.0, flags=flags)\n",
            "/usr/local/lib/python3.7/dist-packages/matplotlib/backends/backend_agg.py:214: RuntimeWarning: Glyph 2354 missing from current font.\n",
            "  font.set_text(s, 0.0, flags=flags)\n",
            "/usr/local/lib/python3.7/dist-packages/matplotlib/backends/backend_agg.py:214: RuntimeWarning: Glyph 2361 missing from current font.\n",
            "  font.set_text(s, 0.0, flags=flags)\n",
            "/usr/local/lib/python3.7/dist-packages/matplotlib/backends/backend_agg.py:214: RuntimeWarning: Glyph 2376 missing from current font.\n",
            "  font.set_text(s, 0.0, flags=flags)\n",
            "/usr/local/lib/python3.7/dist-packages/matplotlib/backends/backend_agg.py:214: RuntimeWarning: Glyph 2306 missing from current font.\n",
            "  font.set_text(s, 0.0, flags=flags)\n",
            "/usr/local/lib/python3.7/dist-packages/matplotlib/backends/backend_agg.py:214: RuntimeWarning: Glyph 2404 missing from current font.\n",
            "  font.set_text(s, 0.0, flags=flags)\n",
            "/usr/local/lib/python3.7/dist-packages/matplotlib/backends/backend_agg.py:214: RuntimeWarning: Glyph 2344 missing from current font.\n",
            "  font.set_text(s, 0.0, flags=flags)\n",
            "/usr/local/lib/python3.7/dist-packages/matplotlib/backends/backend_agg.py:214: RuntimeWarning: Glyph 2341 missing from current font.\n",
            "  font.set_text(s, 0.0, flags=flags)\n",
            "/usr/local/lib/python3.7/dist-packages/matplotlib/backends/backend_agg.py:214: RuntimeWarning: Glyph 2313 missing from current font.\n",
            "  font.set_text(s, 0.0, flags=flags)\n",
            "/usr/local/lib/python3.7/dist-packages/matplotlib/backends/backend_agg.py:214: RuntimeWarning: Glyph 2324 missing from current font.\n",
            "  font.set_text(s, 0.0, flags=flags)\n",
            "/usr/local/lib/python3.7/dist-packages/matplotlib/backends/backend_agg.py:214: RuntimeWarning: Glyph 2342 missing from current font.\n",
            "  font.set_text(s, 0.0, flags=flags)\n",
            "/usr/local/lib/python3.7/dist-packages/matplotlib/backends/backend_agg.py:214: RuntimeWarning: Glyph 2367 missing from current font.\n",
            "  font.set_text(s, 0.0, flags=flags)\n",
            "/usr/local/lib/python3.7/dist-packages/matplotlib/backends/backend_agg.py:214: RuntimeWarning: Glyph 2319 missing from current font.\n",
            "  font.set_text(s, 0.0, flags=flags)\n",
            "/usr/local/lib/python3.7/dist-packages/matplotlib/backends/backend_agg.py:214: RuntimeWarning: Glyph 2340 missing from current font.\n",
            "  font.set_text(s, 0.0, flags=flags)\n",
            "/usr/local/lib/python3.7/dist-packages/matplotlib/backends/backend_agg.py:183: RuntimeWarning: Glyph 2332 missing from current font.\n",
            "  font.set_text(s, 0, flags=flags)\n",
            "/usr/local/lib/python3.7/dist-packages/matplotlib/backends/backend_agg.py:183: RuntimeWarning: Glyph 2375 missing from current font.\n",
            "  font.set_text(s, 0, flags=flags)\n",
            "/usr/local/lib/python3.7/dist-packages/matplotlib/backends/backend_agg.py:183: RuntimeWarning: Glyph 2350 missing from current font.\n",
            "  font.set_text(s, 0, flags=flags)\n",
            "/usr/local/lib/python3.7/dist-packages/matplotlib/backends/backend_agg.py:183: RuntimeWarning: Glyph 2381 missing from current font.\n",
            "  font.set_text(s, 0, flags=flags)\n",
            "/usr/local/lib/python3.7/dist-packages/matplotlib/backends/backend_agg.py:183: RuntimeWarning: Glyph 2360 missing from current font.\n",
            "  font.set_text(s, 0, flags=flags)\n",
            "/usr/local/lib/python3.7/dist-packages/matplotlib/backends/backend_agg.py:183: RuntimeWarning: Glyph 2325 missing from current font.\n",
            "  font.set_text(s, 0, flags=flags)\n",
            "/usr/local/lib/python3.7/dist-packages/matplotlib/backends/backend_agg.py:183: RuntimeWarning: Glyph 2346 missing from current font.\n",
            "  font.set_text(s, 0, flags=flags)\n",
            "/usr/local/lib/python3.7/dist-packages/matplotlib/backends/backend_agg.py:183: RuntimeWarning: Glyph 2366 missing from current font.\n",
            "  font.set_text(s, 0, flags=flags)\n",
            "/usr/local/lib/python3.7/dist-packages/matplotlib/backends/backend_agg.py:183: RuntimeWarning: Glyph 2352 missing from current font.\n",
            "  font.set_text(s, 0, flags=flags)\n",
            "/usr/local/lib/python3.7/dist-packages/matplotlib/backends/backend_agg.py:183: RuntimeWarning: Glyph 2348 missing from current font.\n",
            "  font.set_text(s, 0, flags=flags)\n",
            "/usr/local/lib/python3.7/dist-packages/matplotlib/backends/backend_agg.py:183: RuntimeWarning: Glyph 2354 missing from current font.\n",
            "  font.set_text(s, 0, flags=flags)\n",
            "/usr/local/lib/python3.7/dist-packages/matplotlib/backends/backend_agg.py:183: RuntimeWarning: Glyph 2361 missing from current font.\n",
            "  font.set_text(s, 0, flags=flags)\n",
            "/usr/local/lib/python3.7/dist-packages/matplotlib/backends/backend_agg.py:183: RuntimeWarning: Glyph 2376 missing from current font.\n",
            "  font.set_text(s, 0, flags=flags)\n",
            "/usr/local/lib/python3.7/dist-packages/matplotlib/backends/backend_agg.py:183: RuntimeWarning: Glyph 2306 missing from current font.\n",
            "  font.set_text(s, 0, flags=flags)\n",
            "/usr/local/lib/python3.7/dist-packages/matplotlib/backends/backend_agg.py:183: RuntimeWarning: Glyph 2404 missing from current font.\n",
            "  font.set_text(s, 0, flags=flags)\n",
            "/usr/local/lib/python3.7/dist-packages/matplotlib/backends/backend_agg.py:183: RuntimeWarning: Glyph 2344 missing from current font.\n",
            "  font.set_text(s, 0, flags=flags)\n",
            "/usr/local/lib/python3.7/dist-packages/matplotlib/backends/backend_agg.py:183: RuntimeWarning: Glyph 2341 missing from current font.\n",
            "  font.set_text(s, 0, flags=flags)\n",
            "/usr/local/lib/python3.7/dist-packages/matplotlib/backends/backend_agg.py:183: RuntimeWarning: Glyph 2313 missing from current font.\n",
            "  font.set_text(s, 0, flags=flags)\n",
            "/usr/local/lib/python3.7/dist-packages/matplotlib/backends/backend_agg.py:183: RuntimeWarning: Glyph 2324 missing from current font.\n",
            "  font.set_text(s, 0, flags=flags)\n",
            "/usr/local/lib/python3.7/dist-packages/matplotlib/backends/backend_agg.py:183: RuntimeWarning: Glyph 2342 missing from current font.\n",
            "  font.set_text(s, 0, flags=flags)\n",
            "/usr/local/lib/python3.7/dist-packages/matplotlib/backends/backend_agg.py:183: RuntimeWarning: Glyph 2367 missing from current font.\n",
            "  font.set_text(s, 0, flags=flags)\n",
            "/usr/local/lib/python3.7/dist-packages/matplotlib/backends/backend_agg.py:183: RuntimeWarning: Glyph 2319 missing from current font.\n",
            "  font.set_text(s, 0, flags=flags)\n",
            "/usr/local/lib/python3.7/dist-packages/matplotlib/backends/backend_agg.py:183: RuntimeWarning: Glyph 2340 missing from current font.\n",
            "  font.set_text(s, 0, flags=flags)\n"
          ]
        },
        {
          "output_type": "display_data",
          "data": {
            "image/png": "[encoded data removed]",
            "text/plain": [
              "<Figure size 1152x576 with 8 Axes>"
            ]
          },
          "metadata": {
            "needs_background": "light"
          }
        }
      ]
    },
    {
      "cell_type": "code",
      "metadata": {
        "id": "rSRciy5apm47",
        "colab": {
          "base_uri": "https://localhost:8080/",
          "height": 1000
        },
        "outputId": "2838d535-f831-4b3d-e42d-655bc046e2a8"
      },
      "source": [
        "translate(\"कारी 40 दोस्तों के बीच कुछ ब्लैकबेरी साझा करना चाहता है। यदि प्रत्येक मित्र को 8 ब्लैकबेरी मिलते हैं, तो कितने ब्लैकबेरी जॉन होंगे?\",\n",
        "          plot='decoder_layer4_block2')"
      ],
      "execution_count": 68,
      "outputs": [
        {
          "output_type": "stream",
          "name": "stdout",
          "text": [
            "Input: कारी 40 दोस्तों के बीच कुछ ब्लैकबेरी साझा करना चाहता है। यदि प्रत्येक मित्र को 8 ब्लैकबेरी मिलते हैं, तो कितने ब्लैकबेरी जॉन होंगे?\n",
            "Predicted translation: x = 8 * 40\n"
          ]
        },
        {
          "output_type": "stream",
          "name": "stderr",
          "text": [
            "/usr/local/lib/python3.7/dist-packages/matplotlib/backends/backend_agg.py:214: RuntimeWarning: Glyph 2325 missing from current font.\n",
            "  font.set_text(s, 0.0, flags=flags)\n",
            "/usr/local/lib/python3.7/dist-packages/matplotlib/backends/backend_agg.py:214: RuntimeWarning: Glyph 2366 missing from current font.\n",
            "  font.set_text(s, 0.0, flags=flags)\n",
            "/usr/local/lib/python3.7/dist-packages/matplotlib/backends/backend_agg.py:214: RuntimeWarning: Glyph 2352 missing from current font.\n",
            "  font.set_text(s, 0.0, flags=flags)\n",
            "/usr/local/lib/python3.7/dist-packages/matplotlib/backends/backend_agg.py:214: RuntimeWarning: Glyph 2368 missing from current font.\n",
            "  font.set_text(s, 0.0, flags=flags)\n",
            "/usr/local/lib/python3.7/dist-packages/matplotlib/backends/backend_agg.py:214: RuntimeWarning: Glyph 2342 missing from current font.\n",
            "  font.set_text(s, 0.0, flags=flags)\n",
            "/usr/local/lib/python3.7/dist-packages/matplotlib/backends/backend_agg.py:214: RuntimeWarning: Glyph 2379 missing from current font.\n",
            "  font.set_text(s, 0.0, flags=flags)\n",
            "/usr/local/lib/python3.7/dist-packages/matplotlib/backends/backend_agg.py:214: RuntimeWarning: Glyph 2360 missing from current font.\n",
            "  font.set_text(s, 0.0, flags=flags)\n",
            "/usr/local/lib/python3.7/dist-packages/matplotlib/backends/backend_agg.py:214: RuntimeWarning: Glyph 2381 missing from current font.\n",
            "  font.set_text(s, 0.0, flags=flags)\n",
            "/usr/local/lib/python3.7/dist-packages/matplotlib/backends/backend_agg.py:214: RuntimeWarning: Glyph 2340 missing from current font.\n",
            "  font.set_text(s, 0.0, flags=flags)\n",
            "/usr/local/lib/python3.7/dist-packages/matplotlib/backends/backend_agg.py:214: RuntimeWarning: Glyph 2306 missing from current font.\n",
            "  font.set_text(s, 0.0, flags=flags)\n",
            "/usr/local/lib/python3.7/dist-packages/matplotlib/backends/backend_agg.py:214: RuntimeWarning: Glyph 2375 missing from current font.\n",
            "  font.set_text(s, 0.0, flags=flags)\n",
            "/usr/local/lib/python3.7/dist-packages/matplotlib/backends/backend_agg.py:214: RuntimeWarning: Glyph 2348 missing from current font.\n",
            "  font.set_text(s, 0.0, flags=flags)\n",
            "/usr/local/lib/python3.7/dist-packages/matplotlib/backends/backend_agg.py:214: RuntimeWarning: Glyph 2330 missing from current font.\n",
            "  font.set_text(s, 0.0, flags=flags)\n",
            "/usr/local/lib/python3.7/dist-packages/matplotlib/backends/backend_agg.py:214: RuntimeWarning: Glyph 2369 missing from current font.\n",
            "  font.set_text(s, 0.0, flags=flags)\n",
            "/usr/local/lib/python3.7/dist-packages/matplotlib/backends/backend_agg.py:214: RuntimeWarning: Glyph 2331 missing from current font.\n",
            "  font.set_text(s, 0.0, flags=flags)\n",
            "/usr/local/lib/python3.7/dist-packages/matplotlib/backends/backend_agg.py:214: RuntimeWarning: Glyph 2354 missing from current font.\n",
            "  font.set_text(s, 0.0, flags=flags)\n",
            "/usr/local/lib/python3.7/dist-packages/matplotlib/backends/backend_agg.py:214: RuntimeWarning: Glyph 2376 missing from current font.\n",
            "  font.set_text(s, 0.0, flags=flags)\n",
            "/usr/local/lib/python3.7/dist-packages/matplotlib/backends/backend_agg.py:214: RuntimeWarning: Glyph 2333 missing from current font.\n",
            "  font.set_text(s, 0.0, flags=flags)\n",
            "/usr/local/lib/python3.7/dist-packages/matplotlib/backends/backend_agg.py:214: RuntimeWarning: Glyph 2344 missing from current font.\n",
            "  font.set_text(s, 0.0, flags=flags)\n",
            "/usr/local/lib/python3.7/dist-packages/matplotlib/backends/backend_agg.py:214: RuntimeWarning: Glyph 2361 missing from current font.\n",
            "  font.set_text(s, 0.0, flags=flags)\n",
            "/usr/local/lib/python3.7/dist-packages/matplotlib/backends/backend_agg.py:214: RuntimeWarning: Glyph 2404 missing from current font.\n",
            "  font.set_text(s, 0.0, flags=flags)\n",
            "/usr/local/lib/python3.7/dist-packages/matplotlib/backends/backend_agg.py:214: RuntimeWarning: Glyph 2351 missing from current font.\n",
            "  font.set_text(s, 0.0, flags=flags)\n",
            "/usr/local/lib/python3.7/dist-packages/matplotlib/backends/backend_agg.py:214: RuntimeWarning: Glyph 2367 missing from current font.\n",
            "  font.set_text(s, 0.0, flags=flags)\n",
            "/usr/local/lib/python3.7/dist-packages/matplotlib/backends/backend_agg.py:214: RuntimeWarning: Glyph 2346 missing from current font.\n",
            "  font.set_text(s, 0.0, flags=flags)\n",
            "/usr/local/lib/python3.7/dist-packages/matplotlib/backends/backend_agg.py:214: RuntimeWarning: Glyph 2350 missing from current font.\n",
            "  font.set_text(s, 0.0, flags=flags)\n",
            "/usr/local/lib/python3.7/dist-packages/matplotlib/backends/backend_agg.py:214: RuntimeWarning: Glyph 2332 missing from current font.\n",
            "  font.set_text(s, 0.0, flags=flags)\n",
            "/usr/local/lib/python3.7/dist-packages/matplotlib/backends/backend_agg.py:214: RuntimeWarning: Glyph 2377 missing from current font.\n",
            "  font.set_text(s, 0.0, flags=flags)\n",
            "/usr/local/lib/python3.7/dist-packages/matplotlib/backends/backend_agg.py:214: RuntimeWarning: Glyph 2327 missing from current font.\n",
            "  font.set_text(s, 0.0, flags=flags)\n",
            "/usr/local/lib/python3.7/dist-packages/matplotlib/backends/backend_agg.py:183: RuntimeWarning: Glyph 2325 missing from current font.\n",
            "  font.set_text(s, 0, flags=flags)\n",
            "/usr/local/lib/python3.7/dist-packages/matplotlib/backends/backend_agg.py:183: RuntimeWarning: Glyph 2366 missing from current font.\n",
            "  font.set_text(s, 0, flags=flags)\n",
            "/usr/local/lib/python3.7/dist-packages/matplotlib/backends/backend_agg.py:183: RuntimeWarning: Glyph 2352 missing from current font.\n",
            "  font.set_text(s, 0, flags=flags)\n",
            "/usr/local/lib/python3.7/dist-packages/matplotlib/backends/backend_agg.py:183: RuntimeWarning: Glyph 2368 missing from current font.\n",
            "  font.set_text(s, 0, flags=flags)\n",
            "/usr/local/lib/python3.7/dist-packages/matplotlib/backends/backend_agg.py:183: RuntimeWarning: Glyph 2342 missing from current font.\n",
            "  font.set_text(s, 0, flags=flags)\n",
            "/usr/local/lib/python3.7/dist-packages/matplotlib/backends/backend_agg.py:183: RuntimeWarning: Glyph 2379 missing from current font.\n",
            "  font.set_text(s, 0, flags=flags)\n",
            "/usr/local/lib/python3.7/dist-packages/matplotlib/backends/backend_agg.py:183: RuntimeWarning: Glyph 2360 missing from current font.\n",
            "  font.set_text(s, 0, flags=flags)\n",
            "/usr/local/lib/python3.7/dist-packages/matplotlib/backends/backend_agg.py:183: RuntimeWarning: Glyph 2381 missing from current font.\n",
            "  font.set_text(s, 0, flags=flags)\n",
            "/usr/local/lib/python3.7/dist-packages/matplotlib/backends/backend_agg.py:183: RuntimeWarning: Glyph 2340 missing from current font.\n",
            "  font.set_text(s, 0, flags=flags)\n",
            "/usr/local/lib/python3.7/dist-packages/matplotlib/backends/backend_agg.py:183: RuntimeWarning: Glyph 2306 missing from current font.\n",
            "  font.set_text(s, 0, flags=flags)\n",
            "/usr/local/lib/python3.7/dist-packages/matplotlib/backends/backend_agg.py:183: RuntimeWarning: Glyph 2375 missing from current font.\n",
            "  font.set_text(s, 0, flags=flags)\n",
            "/usr/local/lib/python3.7/dist-packages/matplotlib/backends/backend_agg.py:183: RuntimeWarning: Glyph 2348 missing from current font.\n",
            "  font.set_text(s, 0, flags=flags)\n",
            "/usr/local/lib/python3.7/dist-packages/matplotlib/backends/backend_agg.py:183: RuntimeWarning: Glyph 2330 missing from current font.\n",
            "  font.set_text(s, 0, flags=flags)\n",
            "/usr/local/lib/python3.7/dist-packages/matplotlib/backends/backend_agg.py:183: RuntimeWarning: Glyph 2369 missing from current font.\n",
            "  font.set_text(s, 0, flags=flags)\n",
            "/usr/local/lib/python3.7/dist-packages/matplotlib/backends/backend_agg.py:183: RuntimeWarning: Glyph 2331 missing from current font.\n",
            "  font.set_text(s, 0, flags=flags)\n",
            "/usr/local/lib/python3.7/dist-packages/matplotlib/backends/backend_agg.py:183: RuntimeWarning: Glyph 2354 missing from current font.\n",
            "  font.set_text(s, 0, flags=flags)\n",
            "/usr/local/lib/python3.7/dist-packages/matplotlib/backends/backend_agg.py:183: RuntimeWarning: Glyph 2376 missing from current font.\n",
            "  font.set_text(s, 0, flags=flags)\n",
            "/usr/local/lib/python3.7/dist-packages/matplotlib/backends/backend_agg.py:183: RuntimeWarning: Glyph 2333 missing from current font.\n",
            "  font.set_text(s, 0, flags=flags)\n",
            "/usr/local/lib/python3.7/dist-packages/matplotlib/backends/backend_agg.py:183: RuntimeWarning: Glyph 2344 missing from current font.\n",
            "  font.set_text(s, 0, flags=flags)\n",
            "/usr/local/lib/python3.7/dist-packages/matplotlib/backends/backend_agg.py:183: RuntimeWarning: Glyph 2361 missing from current font.\n",
            "  font.set_text(s, 0, flags=flags)\n",
            "/usr/local/lib/python3.7/dist-packages/matplotlib/backends/backend_agg.py:183: RuntimeWarning: Glyph 2404 missing from current font.\n",
            "  font.set_text(s, 0, flags=flags)\n",
            "/usr/local/lib/python3.7/dist-packages/matplotlib/backends/backend_agg.py:183: RuntimeWarning: Glyph 2351 missing from current font.\n",
            "  font.set_text(s, 0, flags=flags)\n",
            "/usr/local/lib/python3.7/dist-packages/matplotlib/backends/backend_agg.py:183: RuntimeWarning: Glyph 2367 missing from current font.\n",
            "  font.set_text(s, 0, flags=flags)\n",
            "/usr/local/lib/python3.7/dist-packages/matplotlib/backends/backend_agg.py:183: RuntimeWarning: Glyph 2346 missing from current font.\n",
            "  font.set_text(s, 0, flags=flags)\n",
            "/usr/local/lib/python3.7/dist-packages/matplotlib/backends/backend_agg.py:183: RuntimeWarning: Glyph 2350 missing from current font.\n",
            "  font.set_text(s, 0, flags=flags)\n",
            "/usr/local/lib/python3.7/dist-packages/matplotlib/backends/backend_agg.py:183: RuntimeWarning: Glyph 2332 missing from current font.\n",
            "  font.set_text(s, 0, flags=flags)\n",
            "/usr/local/lib/python3.7/dist-packages/matplotlib/backends/backend_agg.py:183: RuntimeWarning: Glyph 2377 missing from current font.\n",
            "  font.set_text(s, 0, flags=flags)\n",
            "/usr/local/lib/python3.7/dist-packages/matplotlib/backends/backend_agg.py:183: RuntimeWarning: Glyph 2327 missing from current font.\n",
            "  font.set_text(s, 0, flags=flags)\n"
          ]
        },
        {
          "output_type": "display_data",
          "data": {
            "image/png": "[encoded data removed]",
            "text/plain": [
              "<Figure size 1152x576 with 8 Axes>"
            ]
          },
          "metadata": {
            "needs_background": "light"
          }
        }
      ]
    },
    {
      "cell_type": "code",
      "metadata": {
        "id": "WAlY90_mQ2Q5"
      },
      "source": [
        ""
      ],
      "execution_count": 68,
      "outputs": []
    }
  ]
}